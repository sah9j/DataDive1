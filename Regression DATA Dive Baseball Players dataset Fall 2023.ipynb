{
 "cells": [
  {
   "cell_type": "markdown",
   "metadata": {},
   "source": [
    "# Goal: Work with group on the Regression Modeling of the Baseball Players dataset \n",
    "\n",
    "* Will divide the class into the groups, the best way is to randomly divide the group\n",
    "* Each group will work on the problem together\n",
    "* I will join the groups and answer the questions from time to time\n",
    "* Once you guys complete the work, each of the group will present the findings to the class"
   ]
  },
  {
   "cell_type": "markdown",
   "metadata": {},
   "source": [
    "## Baseball Players dataset description\n",
    "\n"
   ]
  },
  {
   "cell_type": "markdown",
   "metadata": {},
   "source": [
    "\n",
    "\n",
    "#### Major League Baseball Data from the 1986 and 1987 seasons.\n",
    "** A data frame with 322 observations of major league players on the following 20 variables **\n",
    "\n",
    "* AtBat: Number of times at bat in 1986\n",
    "* Hits: Number of hits in 1986\n",
    "* HmRun: Number of home runs in 1986\n",
    "* Runs: Number of runs in 1986\n",
    "* RBI: Number of runs batted in in 1986\n",
    "* Walks: Number of walks in 1986\n",
    "* Years: Number of years in the major leagues\n",
    "* CAtBat: Number of times at bat during his career\n",
    "* CHits: Number of hits during his career\n",
    "* CHmRun: Number of home runs during his career\n",
    "* CRuns: Number of runs during his career\n",
    "* CRBI: Number of runs batted in during his career\n",
    "* Walks: Number of walks during his career\n",
    "* League: A factor with levels A and N indicating player's league at the end of 1986\n",
    "* Division: A factor with levels E and W indicating player's division at the end of 1986\n",
    "* PutOuts: Number of put outs in 1986\n",
    "* Assists: Number of assists in 1986\n",
    "* Errors: Number of errors in 1986\n",
    "* Salary: 1987 annual salary on opening day in thousands of dollars\n",
    "* NewLeague: A factor with levels A and N indicating player's league at the beginning of 1987\n",
    "\t\n",
    "\t\t\n",
    "\t\t\n",
    "\n",
    "\n",
    "\n",
    "\n",
    "\n",
    "\n",
    "\t\t\n",
    "\t\t\n",
    "\t\t\n",
    "\n",
    "\t\t\n",
    "\n",
    "\t\t"
   ]
  },
  {
   "cell_type": "code",
   "execution_count": 7,
   "metadata": {
    "scrolled": true,
    "ExecuteTime": {
     "end_time": "2023-10-03T17:03:44.981201Z",
     "start_time": "2023-10-03T17:03:44.302387Z"
    }
   },
   "outputs": [],
   "source": [
    "\n",
    "import numpy as np\n",
    "import pandas as pd\n",
    "import seaborn as sns\n",
    "import matplotlib.pyplot as plt\n",
    "plt.style.use('fivethirtyeight')\n",
    "%matplotlib inline\n",
    "\n",
    "import sklearn\n",
    "from sklearn import datasets, linear_model\n",
    "from sklearn.model_selection import train_test_split\n",
    "from sklearn.metrics import mean_squared_error,r2_score,mean_absolute_error\n",
    "from sklearn.metrics import mean_absolute_percentage_error\n",
    "\n",
    "from numpy import arange\n",
    "from sklearn.linear_model import LassoCV\n",
    "from sklearn.model_selection import RepeatedKFold\n",
    "from sklearn.model_selection import cross_val_score\n",
    "\n",
    "from sklearn.linear_model import RidgeCV\n",
    "\n",
    "from sklearn.model_selection import GridSearchCV\n",
    "from sklearn.linear_model import Lasso\n",
    "\n",
    "pd.set_option('display.max_columns',200) #allows for up to 500 columns to be displayed when viewing a dataframe\n",
    "pd.set_option('display.max_rows',100)\n",
    "plt.style.use('ggplot') # a style that can be used for plots - see style reference above\n",
    "\n",
    "import warnings\n",
    "warnings.filterwarnings(\"ignore\", category=DeprecationWarning)"
   ]
  },
  {
   "cell_type": "code",
   "execution_count": 8,
   "metadata": {
    "ExecuteTime": {
     "end_time": "2023-10-03T17:03:46.597892Z",
     "start_time": "2023-10-03T17:03:46.588176Z"
    }
   },
   "outputs": [
    {
     "name": "stdout",
     "output_type": "stream",
     "text": [
      "The scikit-learn version is 1.3.0.\n"
     ]
    }
   ],
   "source": [
    "print('The scikit-learn version is {}.'.format(sklearn.__version__))#older version do not support the mean_absolute_percentage_error"
   ]
  },
  {
   "cell_type": "code",
   "execution_count": 9,
   "metadata": {
    "ExecuteTime": {
     "end_time": "2023-10-03T17:03:48.174813Z",
     "start_time": "2023-10-03T17:03:48.164986Z"
    }
   },
   "outputs": [],
   "source": [
    "# If your sklearn package is old, use the folling line of code to upgrade the sklearn package\n",
    "# !pip install -U scikit-learn"
   ]
  },
  {
   "cell_type": "markdown",
   "metadata": {},
   "source": [
    "## Read the data "
   ]
  },
  {
   "cell_type": "code",
   "execution_count": 10,
   "metadata": {
    "ExecuteTime": {
     "end_time": "2023-10-03T17:03:50.473762Z",
     "start_time": "2023-10-03T17:03:50.432799Z"
    }
   },
   "outputs": [
    {
     "name": "stdout",
     "output_type": "stream",
     "text": [
      "<class 'pandas.core.frame.DataFrame'>\n",
      "RangeIndex: 322 entries, 0 to 321\n",
      "Data columns (total 20 columns):\n",
      " #   Column     Non-Null Count  Dtype  \n",
      "---  ------     --------------  -----  \n",
      " 0   AtBat      322 non-null    int64  \n",
      " 1   Hits       322 non-null    int64  \n",
      " 2   HmRun      322 non-null    int64  \n",
      " 3   Runs       322 non-null    int64  \n",
      " 4   RBI        322 non-null    int64  \n",
      " 5   Walks      322 non-null    int64  \n",
      " 6   Years      322 non-null    int64  \n",
      " 7   CAtBat     322 non-null    int64  \n",
      " 8   CHits      322 non-null    int64  \n",
      " 9   CHmRun     322 non-null    int64  \n",
      " 10  CRuns      322 non-null    int64  \n",
      " 11  CRBI       322 non-null    int64  \n",
      " 12  CWalks     322 non-null    int64  \n",
      " 13  League     322 non-null    object \n",
      " 14  Division   322 non-null    object \n",
      " 15  PutOuts    322 non-null    int64  \n",
      " 16  Assists    322 non-null    int64  \n",
      " 17  Errors     322 non-null    int64  \n",
      " 18  Salary     322 non-null    float64\n",
      " 19  NewLeague  322 non-null    object \n",
      "dtypes: float64(1), int64(16), object(3)\n",
      "memory usage: 50.4+ KB\n"
     ]
    }
   ],
   "source": [
    "df_Hi = pd.read_csv('Dataset/BaseballPlayersData.csv')\n",
    "df_Hi.info()\n"
   ]
  },
  {
   "cell_type": "code",
   "execution_count": 11,
   "metadata": {
    "ExecuteTime": {
     "end_time": "2023-10-03T17:03:54.901637Z",
     "start_time": "2023-10-03T17:03:54.846497Z"
    }
   },
   "outputs": [
    {
     "data": {
      "text/plain": "            AtBat        Hits       HmRun        Runs         RBI       Walks  \\\ncount  322.000000  322.000000  322.000000  322.000000  322.000000  322.000000   \nmean   380.928571  101.024845   10.770186   50.909938   48.027950   38.742236   \nstd    153.404981   46.454741    8.709037   26.024095   26.166895   21.639327   \nmin     16.000000    1.000000    0.000000    0.000000    0.000000    0.000000   \n25%    255.250000   64.000000    4.000000   30.250000   28.000000   22.000000   \n50%    379.500000   96.000000    8.000000   48.000000   44.000000   35.000000   \n75%    512.000000  137.000000   16.000000   69.000000   64.750000   53.000000   \nmax    687.000000  238.000000   40.000000  130.000000  121.000000  105.000000   \n\n            Years       CAtBat        CHits      CHmRun        CRuns  \\\ncount  322.000000    322.00000   322.000000  322.000000   322.000000   \nmean     7.444099   2648.68323   717.571429   69.490683   358.795031   \nstd      4.926087   2324.20587   654.472627   86.266061   334.105886   \nmin      1.000000     19.00000     4.000000    0.000000     1.000000   \n25%      4.000000    816.75000   209.000000   14.000000   100.250000   \n50%      6.000000   1928.00000   508.000000   37.500000   247.000000   \n75%     11.000000   3924.25000  1059.250000   90.000000   526.250000   \nmax     24.000000  14053.00000  4256.000000  548.000000  2165.000000   \n\n              CRBI       CWalks      PutOuts     Assists      Errors  \\\ncount   322.000000   322.000000   322.000000  322.000000  322.000000   \nmean    330.118012   260.239130   288.937888  106.913043    8.040373   \nstd     333.219617   267.058085   280.704614  136.854876    6.368359   \nmin       0.000000     0.000000     0.000000    0.000000    0.000000   \n25%      88.750000    67.250000   109.250000    7.000000    3.000000   \n50%     220.500000   170.500000   212.000000   39.500000    6.000000   \n75%     426.250000   339.250000   325.000000  166.000000   11.000000   \nmax    1659.000000  1566.000000  1378.000000  492.000000   32.000000   \n\n            Salary  \ncount   322.000000  \nmean    529.599284  \nstd     433.014112  \nmin      67.500000  \n25%     193.897891  \n50%     430.750000  \n75%     750.000000  \nmax    2460.000000  ",
      "text/html": "<div>\n<style scoped>\n    .dataframe tbody tr th:only-of-type {\n        vertical-align: middle;\n    }\n\n    .dataframe tbody tr th {\n        vertical-align: top;\n    }\n\n    .dataframe thead th {\n        text-align: right;\n    }\n</style>\n<table border=\"1\" class=\"dataframe\">\n  <thead>\n    <tr style=\"text-align: right;\">\n      <th></th>\n      <th>AtBat</th>\n      <th>Hits</th>\n      <th>HmRun</th>\n      <th>Runs</th>\n      <th>RBI</th>\n      <th>Walks</th>\n      <th>Years</th>\n      <th>CAtBat</th>\n      <th>CHits</th>\n      <th>CHmRun</th>\n      <th>CRuns</th>\n      <th>CRBI</th>\n      <th>CWalks</th>\n      <th>PutOuts</th>\n      <th>Assists</th>\n      <th>Errors</th>\n      <th>Salary</th>\n    </tr>\n  </thead>\n  <tbody>\n    <tr>\n      <th>count</th>\n      <td>322.000000</td>\n      <td>322.000000</td>\n      <td>322.000000</td>\n      <td>322.000000</td>\n      <td>322.000000</td>\n      <td>322.000000</td>\n      <td>322.000000</td>\n      <td>322.00000</td>\n      <td>322.000000</td>\n      <td>322.000000</td>\n      <td>322.000000</td>\n      <td>322.000000</td>\n      <td>322.000000</td>\n      <td>322.000000</td>\n      <td>322.000000</td>\n      <td>322.000000</td>\n      <td>322.000000</td>\n    </tr>\n    <tr>\n      <th>mean</th>\n      <td>380.928571</td>\n      <td>101.024845</td>\n      <td>10.770186</td>\n      <td>50.909938</td>\n      <td>48.027950</td>\n      <td>38.742236</td>\n      <td>7.444099</td>\n      <td>2648.68323</td>\n      <td>717.571429</td>\n      <td>69.490683</td>\n      <td>358.795031</td>\n      <td>330.118012</td>\n      <td>260.239130</td>\n      <td>288.937888</td>\n      <td>106.913043</td>\n      <td>8.040373</td>\n      <td>529.599284</td>\n    </tr>\n    <tr>\n      <th>std</th>\n      <td>153.404981</td>\n      <td>46.454741</td>\n      <td>8.709037</td>\n      <td>26.024095</td>\n      <td>26.166895</td>\n      <td>21.639327</td>\n      <td>4.926087</td>\n      <td>2324.20587</td>\n      <td>654.472627</td>\n      <td>86.266061</td>\n      <td>334.105886</td>\n      <td>333.219617</td>\n      <td>267.058085</td>\n      <td>280.704614</td>\n      <td>136.854876</td>\n      <td>6.368359</td>\n      <td>433.014112</td>\n    </tr>\n    <tr>\n      <th>min</th>\n      <td>16.000000</td>\n      <td>1.000000</td>\n      <td>0.000000</td>\n      <td>0.000000</td>\n      <td>0.000000</td>\n      <td>0.000000</td>\n      <td>1.000000</td>\n      <td>19.00000</td>\n      <td>4.000000</td>\n      <td>0.000000</td>\n      <td>1.000000</td>\n      <td>0.000000</td>\n      <td>0.000000</td>\n      <td>0.000000</td>\n      <td>0.000000</td>\n      <td>0.000000</td>\n      <td>67.500000</td>\n    </tr>\n    <tr>\n      <th>25%</th>\n      <td>255.250000</td>\n      <td>64.000000</td>\n      <td>4.000000</td>\n      <td>30.250000</td>\n      <td>28.000000</td>\n      <td>22.000000</td>\n      <td>4.000000</td>\n      <td>816.75000</td>\n      <td>209.000000</td>\n      <td>14.000000</td>\n      <td>100.250000</td>\n      <td>88.750000</td>\n      <td>67.250000</td>\n      <td>109.250000</td>\n      <td>7.000000</td>\n      <td>3.000000</td>\n      <td>193.897891</td>\n    </tr>\n    <tr>\n      <th>50%</th>\n      <td>379.500000</td>\n      <td>96.000000</td>\n      <td>8.000000</td>\n      <td>48.000000</td>\n      <td>44.000000</td>\n      <td>35.000000</td>\n      <td>6.000000</td>\n      <td>1928.00000</td>\n      <td>508.000000</td>\n      <td>37.500000</td>\n      <td>247.000000</td>\n      <td>220.500000</td>\n      <td>170.500000</td>\n      <td>212.000000</td>\n      <td>39.500000</td>\n      <td>6.000000</td>\n      <td>430.750000</td>\n    </tr>\n    <tr>\n      <th>75%</th>\n      <td>512.000000</td>\n      <td>137.000000</td>\n      <td>16.000000</td>\n      <td>69.000000</td>\n      <td>64.750000</td>\n      <td>53.000000</td>\n      <td>11.000000</td>\n      <td>3924.25000</td>\n      <td>1059.250000</td>\n      <td>90.000000</td>\n      <td>526.250000</td>\n      <td>426.250000</td>\n      <td>339.250000</td>\n      <td>325.000000</td>\n      <td>166.000000</td>\n      <td>11.000000</td>\n      <td>750.000000</td>\n    </tr>\n    <tr>\n      <th>max</th>\n      <td>687.000000</td>\n      <td>238.000000</td>\n      <td>40.000000</td>\n      <td>130.000000</td>\n      <td>121.000000</td>\n      <td>105.000000</td>\n      <td>24.000000</td>\n      <td>14053.00000</td>\n      <td>4256.000000</td>\n      <td>548.000000</td>\n      <td>2165.000000</td>\n      <td>1659.000000</td>\n      <td>1566.000000</td>\n      <td>1378.000000</td>\n      <td>492.000000</td>\n      <td>32.000000</td>\n      <td>2460.000000</td>\n    </tr>\n  </tbody>\n</table>\n</div>"
     },
     "execution_count": 11,
     "metadata": {},
     "output_type": "execute_result"
    }
   ],
   "source": [
    "df_Hi.describe()"
   ]
  },
  {
   "cell_type": "code",
   "execution_count": 12,
   "outputs": [
    {
     "data": {
      "text/plain": "   AtBat  Hits  HmRun  Runs  RBI  Walks  Years  CAtBat  CHits  CHmRun  CRuns  \\\n0    315    81      7    24   38     39     14    3449    835      69    321   \n1    479   130     18    66   72     76      3    1624    457      63    224   \n2    496   141     20    65   78     37     11    5628   1575     225    828   \n3    321    87     10    39   42     30      2     396    101      12     48   \n4    594   169      4    74   51     35     11    4408   1133      19    501   \n\n   CRBI  CWalks League Division  PutOuts  Assists  Errors  Salary NewLeague  \n0   414     375      N        W      632       43      10   475.0         N  \n1   266     263      A        W      880       82      14   480.0         A  \n2   838     354      N        E      200       11       3   500.0         N  \n3    46      33      N        E      805       40       4    91.5         N  \n4   336     194      A        W      282      421      25   750.0         A  ",
      "text/html": "<div>\n<style scoped>\n    .dataframe tbody tr th:only-of-type {\n        vertical-align: middle;\n    }\n\n    .dataframe tbody tr th {\n        vertical-align: top;\n    }\n\n    .dataframe thead th {\n        text-align: right;\n    }\n</style>\n<table border=\"1\" class=\"dataframe\">\n  <thead>\n    <tr style=\"text-align: right;\">\n      <th></th>\n      <th>AtBat</th>\n      <th>Hits</th>\n      <th>HmRun</th>\n      <th>Runs</th>\n      <th>RBI</th>\n      <th>Walks</th>\n      <th>Years</th>\n      <th>CAtBat</th>\n      <th>CHits</th>\n      <th>CHmRun</th>\n      <th>CRuns</th>\n      <th>CRBI</th>\n      <th>CWalks</th>\n      <th>League</th>\n      <th>Division</th>\n      <th>PutOuts</th>\n      <th>Assists</th>\n      <th>Errors</th>\n      <th>Salary</th>\n      <th>NewLeague</th>\n    </tr>\n  </thead>\n  <tbody>\n    <tr>\n      <th>0</th>\n      <td>315</td>\n      <td>81</td>\n      <td>7</td>\n      <td>24</td>\n      <td>38</td>\n      <td>39</td>\n      <td>14</td>\n      <td>3449</td>\n      <td>835</td>\n      <td>69</td>\n      <td>321</td>\n      <td>414</td>\n      <td>375</td>\n      <td>N</td>\n      <td>W</td>\n      <td>632</td>\n      <td>43</td>\n      <td>10</td>\n      <td>475.0</td>\n      <td>N</td>\n    </tr>\n    <tr>\n      <th>1</th>\n      <td>479</td>\n      <td>130</td>\n      <td>18</td>\n      <td>66</td>\n      <td>72</td>\n      <td>76</td>\n      <td>3</td>\n      <td>1624</td>\n      <td>457</td>\n      <td>63</td>\n      <td>224</td>\n      <td>266</td>\n      <td>263</td>\n      <td>A</td>\n      <td>W</td>\n      <td>880</td>\n      <td>82</td>\n      <td>14</td>\n      <td>480.0</td>\n      <td>A</td>\n    </tr>\n    <tr>\n      <th>2</th>\n      <td>496</td>\n      <td>141</td>\n      <td>20</td>\n      <td>65</td>\n      <td>78</td>\n      <td>37</td>\n      <td>11</td>\n      <td>5628</td>\n      <td>1575</td>\n      <td>225</td>\n      <td>828</td>\n      <td>838</td>\n      <td>354</td>\n      <td>N</td>\n      <td>E</td>\n      <td>200</td>\n      <td>11</td>\n      <td>3</td>\n      <td>500.0</td>\n      <td>N</td>\n    </tr>\n    <tr>\n      <th>3</th>\n      <td>321</td>\n      <td>87</td>\n      <td>10</td>\n      <td>39</td>\n      <td>42</td>\n      <td>30</td>\n      <td>2</td>\n      <td>396</td>\n      <td>101</td>\n      <td>12</td>\n      <td>48</td>\n      <td>46</td>\n      <td>33</td>\n      <td>N</td>\n      <td>E</td>\n      <td>805</td>\n      <td>40</td>\n      <td>4</td>\n      <td>91.5</td>\n      <td>N</td>\n    </tr>\n    <tr>\n      <th>4</th>\n      <td>594</td>\n      <td>169</td>\n      <td>4</td>\n      <td>74</td>\n      <td>51</td>\n      <td>35</td>\n      <td>11</td>\n      <td>4408</td>\n      <td>1133</td>\n      <td>19</td>\n      <td>501</td>\n      <td>336</td>\n      <td>194</td>\n      <td>A</td>\n      <td>W</td>\n      <td>282</td>\n      <td>421</td>\n      <td>25</td>\n      <td>750.0</td>\n      <td>A</td>\n    </tr>\n  </tbody>\n</table>\n</div>"
     },
     "execution_count": 12,
     "metadata": {},
     "output_type": "execute_result"
    }
   ],
   "source": [
    "df_Hi.head()"
   ],
   "metadata": {
    "collapsed": false,
    "ExecuteTime": {
     "end_time": "2023-10-03T17:03:58.854828Z",
     "start_time": "2023-10-03T17:03:58.836222Z"
    }
   }
  },
  {
   "cell_type": "markdown",
   "metadata": {},
   "source": [
    "## Day 1 Task"
   ]
  },
  {
   "cell_type": "markdown",
   "metadata": {},
   "source": [
    "Step 1\n",
    "\n",
    "* Explore the data, and visualize the data from multiple avenues\n",
    "* Change the categorical variables to the numerical variables using appropriate method\n",
    "* You may want to do some feature engineering to create the meaningful predictors\n",
    "* Create the 80/20 train test split and then standardize the data\n",
    "* Run the Simple linear regression for each predictor with the Salary being the target variable\n",
    "* Explain the relationship of each individual predictor with the target variable\n",
    "* Write the simple linear regression equation\n",
    "* Discuss which variable is most significant predictor of the players salary?\n",
    "* Explore the various accuracy measures such as MAPE, RMSE, R^2. What do those values mean in terms of your problem? Explain.\n",
    "* Perform multiple linear regression taking three predictors that you observe most relevant for predicting salary.\n",
    "* Discuss your observations.\n",
    "* Provide a summary of the result.\n",
    "\n"
   ]
  },
  {
   "cell_type": "markdown",
   "metadata": {},
   "source": [
    "* Plan for the 1-2 minutes informal presentation of your findings to the class.\n",
    "\n",
    "Note: At the end of the session, each group will present the findings to the class and email single main copy of their notebook representing groups overall  achievement"
   ]
  },
  {
   "cell_type": "code",
   "execution_count": 17,
   "metadata": {
    "ExecuteTime": {
     "end_time": "2023-10-03T17:09:26.530951Z",
     "start_time": "2023-10-03T17:09:26.513757Z"
    }
   },
   "outputs": [],
   "source": [
    "League_Dummies = pd.get_dummies(df_Hi['League'])\n",
    "Division_Dummies = pd.get_dummies(df_Hi['Division'])\n",
    "New_League_Dummies = pd.get_dummies(df_Hi['NewLeague'])"
   ]
  },
  {
   "cell_type": "code",
   "execution_count": null,
   "outputs": [],
   "source": [],
   "metadata": {
    "collapsed": false
   }
  }
 ],
 "metadata": {
  "kernelspec": {
   "display_name": "Python 3",
   "language": "python",
   "name": "python3"
  },
  "language_info": {
   "codemirror_mode": {
    "name": "ipython",
    "version": 3
   },
   "file_extension": ".py",
   "mimetype": "text/x-python",
   "name": "python",
   "nbconvert_exporter": "python",
   "pygments_lexer": "ipython3",
   "version": "3.8.8"
  }
 },
 "nbformat": 4,
 "nbformat_minor": 2
}
