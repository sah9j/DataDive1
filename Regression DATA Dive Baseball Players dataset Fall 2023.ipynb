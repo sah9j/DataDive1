{
 "cells": [
  {
   "attachments": {},
   "cell_type": "markdown",
   "metadata": {},
   "source": [
    "# Goal: Work with group on the Regression Modeling of the Baseball Players dataset \n",
    "\n",
    "* Will divide the class into the groups, the best way is to randomly divide the group\n",
    "* Each group will work on the problem together\n",
    "* I will join the groups and answer the questions from time to time\n",
    "* Once you guys complete the work, each of the group will present the findings to the class"
   ]
  },
  {
   "attachments": {},
   "cell_type": "markdown",
   "metadata": {},
   "source": [
    "## Day 1 Task"
   ]
  },
  {
   "attachments": {},
   "cell_type": "markdown",
   "metadata": {},
   "source": [
    "* 1.)  Explore the data, and visualize the data from multiple avenues\n",
    "* 2.)  Change the categorical variables to the numerical variables using appropriate method \n",
    "* 3.)  You may want to do some feature engineering to create the meaningful predictors\n",
    "* 4.)  Create the 80/20 train test split and then standardize the data\n",
    "* 5.)  Run the Simple linear regression for each predictor with the Salary being the target variable\n",
    "* 6.)  Explain the relationship of each individual predictor with the target variable\n",
    "* 7.)  Write the simple linear regression equation\n",
    "* 8.)  Discuss which variable is the most significant predictor of the players' salary\n",
    "* 9.)  Explore the various accuracy measures such as MAPE, RMSE, R^2. What do those values mean in terms of your problem? Explain.\n",
    "* 10.) Perform multiple linear regression taking three predictors that you observe most relevant for predicting salary.\n",
    "* 11.) Discuss your observations.\n",
    "* 12.) Provide a summary of the result.\n",
    "\n"
   ]
  },
  {
   "attachments": {},
   "cell_type": "markdown",
   "metadata": {},
   "source": [
    "* Plan for the 1-2 minutes informal presentation of your findings to the class.\n",
    "\n",
    "Note: At the end of the session, each group will present the findings to the class and email single main copy of their notebook representing groups overall  achievement"
   ]
  },
  {
   "cell_type": "markdown",
   "metadata": {
    "collapsed": false
   },
   "source": [
    "## Baseball Players dataset description\n",
    "\n"
   ]
  },
  {
   "cell_type": "markdown",
   "metadata": {
    "collapsed": false
   },
   "source": [
    "\n",
    "\n",
    "#### Major League Baseball Data from the 1986 and 1987 seasons.\n",
    "** A data frame with 322 observations of major league players on the following 20 variables **\n",
    "\n",
    "* AtBat: Number of times at bat in 1986\n",
    "* Hits: Number of hits in 1986\n",
    "* HmRun: Number of home runs in 1986\n",
    "* Runs: Number of runs in 1986\n",
    "* RBI: Number of runs batted in in 1986\n",
    "* Walks: Number of walks in 1986\n",
    "* Years: Number of years in the major leagues\n",
    "* CAtBat: Number of times at bat during his career\n",
    "* CHits: Number of hits during his career\n",
    "* CHmRun: Number of home runs during his career\n",
    "* CRuns: Number of runs during his career\n",
    "* CRBI: Number of runs batted in during his career\n",
    "* Walks: Number of walks during his career\n",
    "* League: A factor with levels A and N indicating player's league at the end of 1986\n",
    "* Division: A factor with levels E and W indicating player's division at the end of 1986\n",
    "* PutOuts: Number of put outs in 1986\n",
    "* Assists: Number of assists in 1986\n",
    "* Errors: Number of errors in 1986\n",
    "* Salary: 1987 annual salary on opening day in thousands of dollars\n",
    "* NewLeague: A factor with levels A and N indicating player's league at the beginning of 1987\n",
    "\t\n",
    "\t\t\n",
    "\t\t\n",
    "\n",
    "\n",
    "\n",
    "\n",
    "\n",
    "\n",
    "\t\t\n",
    "\t\t\n",
    "\t\t\n",
    "\n",
    "\t\t\n",
    "\n",
    "\t\t"
   ]
  },
  {
   "cell_type": "markdown",
   "metadata": {
    "collapsed": false
   },
   "source": [
    "## Imports"
   ]
  },
  {
   "cell_type": "code",
   "execution_count": 83,
   "metadata": {
    "collapsed": false,
    "ExecuteTime": {
     "end_time": "2023-10-05T17:00:05.372928Z",
     "start_time": "2023-10-05T17:00:04.750573Z"
    }
   },
   "outputs": [],
   "source": [
    "import numpy as np\n",
    "import pandas as pd\n",
    "import seaborn as sns\n",
    "import matplotlib.pyplot as plt\n",
    "plt.style.use('fivethirtyeight')\n",
    "%matplotlib inline\n",
    "\n",
    "import sklearn\n",
    "from sklearn import datasets, linear_model\n",
    "from sklearn.model_selection import train_test_split\n",
    "from sklearn.metrics import mean_squared_error,r2_score,mean_absolute_error\n",
    "from sklearn.metrics import mean_absolute_percentage_error\n",
    "from sklearn.preprocessing import StandardScaler\n",
    "\n",
    "from numpy import arange\n",
    "from sklearn.linear_model import LassoCV\n",
    "from sklearn.model_selection import RepeatedKFold\n",
    "from sklearn.model_selection import cross_val_score\n",
    "\n",
    "from sklearn.linear_model import RidgeCV\n",
    "\n",
    "from sklearn.model_selection import GridSearchCV\n",
    "from sklearn.linear_model import Lasso\n",
    "\n",
    "pd.set_option('display.max_columns',200) #allows for up to 500 columns to be displayed when viewing a dataframe\n",
    "pd.set_option('display.max_rows',100)\n",
    "plt.style.use('ggplot') # a style that can be used for plots - see style reference above\n",
    "\n",
    "import warnings\n",
    "warnings.filterwarnings(\"ignore\", category=DeprecationWarning)"
   ]
  },
  {
   "cell_type": "markdown",
   "metadata": {
    "collapsed": false
   },
   "source": [
    "## 1.)  Explore the data and visualize the data from multiple avenues"
   ]
  },
  {
   "cell_type": "markdown",
   "metadata": {
    "collapsed": false
   },
   "source": [
    "# Read the data "
   ]
  },
  {
   "cell_type": "code",
   "execution_count": 84,
   "metadata": {
    "collapsed": false,
    "ExecuteTime": {
     "end_time": "2023-10-05T17:00:05.693391Z",
     "start_time": "2023-10-05T17:00:04.761197Z"
    }
   },
   "outputs": [
    {
     "name": "stdout",
     "output_type": "stream",
     "text": [
      "<class 'pandas.core.frame.DataFrame'>\n",
      "RangeIndex: 322 entries, 0 to 321\n",
      "Data columns (total 20 columns):\n",
      " #   Column     Non-Null Count  Dtype  \n",
      "---  ------     --------------  -----  \n",
      " 0   AtBat      322 non-null    int64  \n",
      " 1   Hits       322 non-null    int64  \n",
      " 2   HmRun      322 non-null    int64  \n",
      " 3   Runs       322 non-null    int64  \n",
      " 4   RBI        322 non-null    int64  \n",
      " 5   Walks      322 non-null    int64  \n",
      " 6   Years      322 non-null    int64  \n",
      " 7   CAtBat     322 non-null    int64  \n",
      " 8   CHits      322 non-null    int64  \n",
      " 9   CHmRun     322 non-null    int64  \n",
      " 10  CRuns      322 non-null    int64  \n",
      " 11  CRBI       322 non-null    int64  \n",
      " 12  CWalks     322 non-null    int64  \n",
      " 13  League     322 non-null    object \n",
      " 14  Division   322 non-null    object \n",
      " 15  PutOuts    322 non-null    int64  \n",
      " 16  Assists    322 non-null    int64  \n",
      " 17  Errors     322 non-null    int64  \n",
      " 18  Salary     322 non-null    float64\n",
      " 19  NewLeague  322 non-null    object \n",
      "dtypes: float64(1), int64(16), object(3)\n",
      "memory usage: 50.4+ KB\n"
     ]
    }
   ],
   "source": [
    "df_Hi = pd.read_csv('Dataset/BaseballPlayersData.csv')\n",
    "df_Hi.info()"
   ]
  },
  {
   "cell_type": "code",
   "execution_count": 85,
   "metadata": {
    "collapsed": false,
    "ExecuteTime": {
     "end_time": "2023-10-05T17:00:05.766479Z",
     "start_time": "2023-10-05T17:00:04.773868Z"
    }
   },
   "outputs": [
    {
     "data": {
      "text/plain": "            AtBat        Hits       HmRun        Runs         RBI       Walks  \\\ncount  322.000000  322.000000  322.000000  322.000000  322.000000  322.000000   \nmean   380.928571  101.024845   10.770186   50.909938   48.027950   38.742236   \nstd    153.404981   46.454741    8.709037   26.024095   26.166895   21.639327   \nmin     16.000000    1.000000    0.000000    0.000000    0.000000    0.000000   \n25%    255.250000   64.000000    4.000000   30.250000   28.000000   22.000000   \n50%    379.500000   96.000000    8.000000   48.000000   44.000000   35.000000   \n75%    512.000000  137.000000   16.000000   69.000000   64.750000   53.000000   \nmax    687.000000  238.000000   40.000000  130.000000  121.000000  105.000000   \n\n            Years       CAtBat        CHits      CHmRun        CRuns  \\\ncount  322.000000    322.00000   322.000000  322.000000   322.000000   \nmean     7.444099   2648.68323   717.571429   69.490683   358.795031   \nstd      4.926087   2324.20587   654.472627   86.266061   334.105886   \nmin      1.000000     19.00000     4.000000    0.000000     1.000000   \n25%      4.000000    816.75000   209.000000   14.000000   100.250000   \n50%      6.000000   1928.00000   508.000000   37.500000   247.000000   \n75%     11.000000   3924.25000  1059.250000   90.000000   526.250000   \nmax     24.000000  14053.00000  4256.000000  548.000000  2165.000000   \n\n              CRBI       CWalks      PutOuts     Assists      Errors  \\\ncount   322.000000   322.000000   322.000000  322.000000  322.000000   \nmean    330.118012   260.239130   288.937888  106.913043    8.040373   \nstd     333.219617   267.058085   280.704614  136.854876    6.368359   \nmin       0.000000     0.000000     0.000000    0.000000    0.000000   \n25%      88.750000    67.250000   109.250000    7.000000    3.000000   \n50%     220.500000   170.500000   212.000000   39.500000    6.000000   \n75%     426.250000   339.250000   325.000000  166.000000   11.000000   \nmax    1659.000000  1566.000000  1378.000000  492.000000   32.000000   \n\n            Salary  \ncount   322.000000  \nmean    529.599284  \nstd     433.014112  \nmin      67.500000  \n25%     193.897891  \n50%     430.750000  \n75%     750.000000  \nmax    2460.000000  ",
      "text/html": "<div>\n<style scoped>\n    .dataframe tbody tr th:only-of-type {\n        vertical-align: middle;\n    }\n\n    .dataframe tbody tr th {\n        vertical-align: top;\n    }\n\n    .dataframe thead th {\n        text-align: right;\n    }\n</style>\n<table border=\"1\" class=\"dataframe\">\n  <thead>\n    <tr style=\"text-align: right;\">\n      <th></th>\n      <th>AtBat</th>\n      <th>Hits</th>\n      <th>HmRun</th>\n      <th>Runs</th>\n      <th>RBI</th>\n      <th>Walks</th>\n      <th>Years</th>\n      <th>CAtBat</th>\n      <th>CHits</th>\n      <th>CHmRun</th>\n      <th>CRuns</th>\n      <th>CRBI</th>\n      <th>CWalks</th>\n      <th>PutOuts</th>\n      <th>Assists</th>\n      <th>Errors</th>\n      <th>Salary</th>\n    </tr>\n  </thead>\n  <tbody>\n    <tr>\n      <th>count</th>\n      <td>322.000000</td>\n      <td>322.000000</td>\n      <td>322.000000</td>\n      <td>322.000000</td>\n      <td>322.000000</td>\n      <td>322.000000</td>\n      <td>322.000000</td>\n      <td>322.00000</td>\n      <td>322.000000</td>\n      <td>322.000000</td>\n      <td>322.000000</td>\n      <td>322.000000</td>\n      <td>322.000000</td>\n      <td>322.000000</td>\n      <td>322.000000</td>\n      <td>322.000000</td>\n      <td>322.000000</td>\n    </tr>\n    <tr>\n      <th>mean</th>\n      <td>380.928571</td>\n      <td>101.024845</td>\n      <td>10.770186</td>\n      <td>50.909938</td>\n      <td>48.027950</td>\n      <td>38.742236</td>\n      <td>7.444099</td>\n      <td>2648.68323</td>\n      <td>717.571429</td>\n      <td>69.490683</td>\n      <td>358.795031</td>\n      <td>330.118012</td>\n      <td>260.239130</td>\n      <td>288.937888</td>\n      <td>106.913043</td>\n      <td>8.040373</td>\n      <td>529.599284</td>\n    </tr>\n    <tr>\n      <th>std</th>\n      <td>153.404981</td>\n      <td>46.454741</td>\n      <td>8.709037</td>\n      <td>26.024095</td>\n      <td>26.166895</td>\n      <td>21.639327</td>\n      <td>4.926087</td>\n      <td>2324.20587</td>\n      <td>654.472627</td>\n      <td>86.266061</td>\n      <td>334.105886</td>\n      <td>333.219617</td>\n      <td>267.058085</td>\n      <td>280.704614</td>\n      <td>136.854876</td>\n      <td>6.368359</td>\n      <td>433.014112</td>\n    </tr>\n    <tr>\n      <th>min</th>\n      <td>16.000000</td>\n      <td>1.000000</td>\n      <td>0.000000</td>\n      <td>0.000000</td>\n      <td>0.000000</td>\n      <td>0.000000</td>\n      <td>1.000000</td>\n      <td>19.00000</td>\n      <td>4.000000</td>\n      <td>0.000000</td>\n      <td>1.000000</td>\n      <td>0.000000</td>\n      <td>0.000000</td>\n      <td>0.000000</td>\n      <td>0.000000</td>\n      <td>0.000000</td>\n      <td>67.500000</td>\n    </tr>\n    <tr>\n      <th>25%</th>\n      <td>255.250000</td>\n      <td>64.000000</td>\n      <td>4.000000</td>\n      <td>30.250000</td>\n      <td>28.000000</td>\n      <td>22.000000</td>\n      <td>4.000000</td>\n      <td>816.75000</td>\n      <td>209.000000</td>\n      <td>14.000000</td>\n      <td>100.250000</td>\n      <td>88.750000</td>\n      <td>67.250000</td>\n      <td>109.250000</td>\n      <td>7.000000</td>\n      <td>3.000000</td>\n      <td>193.897891</td>\n    </tr>\n    <tr>\n      <th>50%</th>\n      <td>379.500000</td>\n      <td>96.000000</td>\n      <td>8.000000</td>\n      <td>48.000000</td>\n      <td>44.000000</td>\n      <td>35.000000</td>\n      <td>6.000000</td>\n      <td>1928.00000</td>\n      <td>508.000000</td>\n      <td>37.500000</td>\n      <td>247.000000</td>\n      <td>220.500000</td>\n      <td>170.500000</td>\n      <td>212.000000</td>\n      <td>39.500000</td>\n      <td>6.000000</td>\n      <td>430.750000</td>\n    </tr>\n    <tr>\n      <th>75%</th>\n      <td>512.000000</td>\n      <td>137.000000</td>\n      <td>16.000000</td>\n      <td>69.000000</td>\n      <td>64.750000</td>\n      <td>53.000000</td>\n      <td>11.000000</td>\n      <td>3924.25000</td>\n      <td>1059.250000</td>\n      <td>90.000000</td>\n      <td>526.250000</td>\n      <td>426.250000</td>\n      <td>339.250000</td>\n      <td>325.000000</td>\n      <td>166.000000</td>\n      <td>11.000000</td>\n      <td>750.000000</td>\n    </tr>\n    <tr>\n      <th>max</th>\n      <td>687.000000</td>\n      <td>238.000000</td>\n      <td>40.000000</td>\n      <td>130.000000</td>\n      <td>121.000000</td>\n      <td>105.000000</td>\n      <td>24.000000</td>\n      <td>14053.00000</td>\n      <td>4256.000000</td>\n      <td>548.000000</td>\n      <td>2165.000000</td>\n      <td>1659.000000</td>\n      <td>1566.000000</td>\n      <td>1378.000000</td>\n      <td>492.000000</td>\n      <td>32.000000</td>\n      <td>2460.000000</td>\n    </tr>\n  </tbody>\n</table>\n</div>"
     },
     "execution_count": 85,
     "metadata": {},
     "output_type": "execute_result"
    }
   ],
   "source": [
    "df_Hi.describe()"
   ]
  },
  {
   "cell_type": "code",
   "execution_count": 86,
   "metadata": {
    "collapsed": false,
    "ExecuteTime": {
     "end_time": "2023-10-05T17:00:05.787562Z",
     "start_time": "2023-10-05T17:00:04.812113Z"
    }
   },
   "outputs": [
    {
     "data": {
      "text/plain": "   AtBat  Hits  HmRun  Runs  RBI  Walks  Years  CAtBat  CHits  CHmRun  CRuns  \\\n0    315    81      7    24   38     39     14    3449    835      69    321   \n1    479   130     18    66   72     76      3    1624    457      63    224   \n2    496   141     20    65   78     37     11    5628   1575     225    828   \n3    321    87     10    39   42     30      2     396    101      12     48   \n4    594   169      4    74   51     35     11    4408   1133      19    501   \n\n   CRBI  CWalks League Division  PutOuts  Assists  Errors  Salary NewLeague  \n0   414     375      N        W      632       43      10   475.0         N  \n1   266     263      A        W      880       82      14   480.0         A  \n2   838     354      N        E      200       11       3   500.0         N  \n3    46      33      N        E      805       40       4    91.5         N  \n4   336     194      A        W      282      421      25   750.0         A  ",
      "text/html": "<div>\n<style scoped>\n    .dataframe tbody tr th:only-of-type {\n        vertical-align: middle;\n    }\n\n    .dataframe tbody tr th {\n        vertical-align: top;\n    }\n\n    .dataframe thead th {\n        text-align: right;\n    }\n</style>\n<table border=\"1\" class=\"dataframe\">\n  <thead>\n    <tr style=\"text-align: right;\">\n      <th></th>\n      <th>AtBat</th>\n      <th>Hits</th>\n      <th>HmRun</th>\n      <th>Runs</th>\n      <th>RBI</th>\n      <th>Walks</th>\n      <th>Years</th>\n      <th>CAtBat</th>\n      <th>CHits</th>\n      <th>CHmRun</th>\n      <th>CRuns</th>\n      <th>CRBI</th>\n      <th>CWalks</th>\n      <th>League</th>\n      <th>Division</th>\n      <th>PutOuts</th>\n      <th>Assists</th>\n      <th>Errors</th>\n      <th>Salary</th>\n      <th>NewLeague</th>\n    </tr>\n  </thead>\n  <tbody>\n    <tr>\n      <th>0</th>\n      <td>315</td>\n      <td>81</td>\n      <td>7</td>\n      <td>24</td>\n      <td>38</td>\n      <td>39</td>\n      <td>14</td>\n      <td>3449</td>\n      <td>835</td>\n      <td>69</td>\n      <td>321</td>\n      <td>414</td>\n      <td>375</td>\n      <td>N</td>\n      <td>W</td>\n      <td>632</td>\n      <td>43</td>\n      <td>10</td>\n      <td>475.0</td>\n      <td>N</td>\n    </tr>\n    <tr>\n      <th>1</th>\n      <td>479</td>\n      <td>130</td>\n      <td>18</td>\n      <td>66</td>\n      <td>72</td>\n      <td>76</td>\n      <td>3</td>\n      <td>1624</td>\n      <td>457</td>\n      <td>63</td>\n      <td>224</td>\n      <td>266</td>\n      <td>263</td>\n      <td>A</td>\n      <td>W</td>\n      <td>880</td>\n      <td>82</td>\n      <td>14</td>\n      <td>480.0</td>\n      <td>A</td>\n    </tr>\n    <tr>\n      <th>2</th>\n      <td>496</td>\n      <td>141</td>\n      <td>20</td>\n      <td>65</td>\n      <td>78</td>\n      <td>37</td>\n      <td>11</td>\n      <td>5628</td>\n      <td>1575</td>\n      <td>225</td>\n      <td>828</td>\n      <td>838</td>\n      <td>354</td>\n      <td>N</td>\n      <td>E</td>\n      <td>200</td>\n      <td>11</td>\n      <td>3</td>\n      <td>500.0</td>\n      <td>N</td>\n    </tr>\n    <tr>\n      <th>3</th>\n      <td>321</td>\n      <td>87</td>\n      <td>10</td>\n      <td>39</td>\n      <td>42</td>\n      <td>30</td>\n      <td>2</td>\n      <td>396</td>\n      <td>101</td>\n      <td>12</td>\n      <td>48</td>\n      <td>46</td>\n      <td>33</td>\n      <td>N</td>\n      <td>E</td>\n      <td>805</td>\n      <td>40</td>\n      <td>4</td>\n      <td>91.5</td>\n      <td>N</td>\n    </tr>\n    <tr>\n      <th>4</th>\n      <td>594</td>\n      <td>169</td>\n      <td>4</td>\n      <td>74</td>\n      <td>51</td>\n      <td>35</td>\n      <td>11</td>\n      <td>4408</td>\n      <td>1133</td>\n      <td>19</td>\n      <td>501</td>\n      <td>336</td>\n      <td>194</td>\n      <td>A</td>\n      <td>W</td>\n      <td>282</td>\n      <td>421</td>\n      <td>25</td>\n      <td>750.0</td>\n      <td>A</td>\n    </tr>\n  </tbody>\n</table>\n</div>"
     },
     "execution_count": 86,
     "metadata": {},
     "output_type": "execute_result"
    }
   ],
   "source": [
    "df_Hi.head()"
   ]
  },
  {
   "attachments": {},
   "cell_type": "markdown",
   "metadata": {},
   "source": [
    "# Missing Values"
   ]
  },
  {
   "cell_type": "code",
   "execution_count": 87,
   "metadata": {
    "ExecuteTime": {
     "end_time": "2023-10-05T17:00:05.790454Z",
     "start_time": "2023-10-05T17:00:04.817867Z"
    }
   },
   "outputs": [
    {
     "name": "stdout",
     "output_type": "stream",
     "text": [
      "AtBat        0\n",
      "Hits         0\n",
      "HmRun        0\n",
      "Runs         0\n",
      "RBI          0\n",
      "Walks        0\n",
      "Years        0\n",
      "CAtBat       0\n",
      "CHits        0\n",
      "CHmRun       0\n",
      "CRuns        0\n",
      "CRBI         0\n",
      "CWalks       0\n",
      "League       0\n",
      "Division     0\n",
      "PutOuts      0\n",
      "Assists      0\n",
      "Errors       0\n",
      "Salary       0\n",
      "NewLeague    0\n",
      "dtype: int64\n"
     ]
    }
   ],
   "source": [
    "# Count the number of missing values in each column\n",
    "print(df_Hi.isnull().sum())"
   ]
  },
  {
   "cell_type": "markdown",
   "metadata": {
    "collapsed": false
   },
   "source": [
    "## Visualizations"
   ]
  },
  {
   "cell_type": "markdown",
   "metadata": {
    "collapsed": false
   },
   "source": [
    "#### Histogram for numerical variables"
   ]
  },
  {
   "cell_type": "code",
   "execution_count": 88,
   "metadata": {
    "ExecuteTime": {
     "end_time": "2023-10-05T17:00:07.887494Z",
     "start_time": "2023-10-05T17:00:04.872504Z"
    }
   },
   "outputs": [
    {
     "data": {
      "text/plain": "<Figure size 1200x800 with 20 Axes>",
      "image/png": "[encoded data removed]"
     },
     "metadata": {},
     "output_type": "display_data"
    }
   ],
   "source": [
    "df_Hi.hist(figsize=(12, 8))\n",
    "plt.show()"
   ]
  },
  {
   "attachments": {},
   "cell_type": "markdown",
   "metadata": {},
   "source": [
    "#### Count Plots for Categorical Variables"
   ]
  },
  {
   "cell_type": "code",
   "execution_count": 89,
   "metadata": {
    "ExecuteTime": {
     "end_time": "2023-10-05T17:00:08.314569Z",
     "start_time": "2023-10-05T17:00:07.878384Z"
    }
   },
   "outputs": [
    {
     "data": {
      "text/plain": "<Figure size 1000x600 with 1 Axes>",
      "image/png": "[encoded data removed]"
     },
     "metadata": {},
     "output_type": "display_data"
    },
    {
     "data": {
      "text/plain": "<Figure size 1000x600 with 1 Axes>",
      "image/png": "[encoded data removed]"
     },
     "metadata": {},
     "output_type": "display_data"
    },
    {
     "data": {
      "text/plain": "<Figure size 1000x600 with 1 Axes>",
      "image/png": "[encoded data removed]"
     },
     "metadata": {},
     "output_type": "display_data"
    }
   ],
   "source": [
    "plt.figure(figsize=(10, 6))\n",
    "sns.countplot(x='League', data=df_Hi)\n",
    "plt.show()\n",
    "\n",
    "plt.figure(figsize=(10, 6))\n",
    "sns.countplot(x='Division', data=df_Hi)\n",
    "plt.show()\n",
    "\n",
    "plt.figure(figsize=(10, 6))\n",
    "sns.countplot(x='NewLeague', data=df_Hi)\n",
    "plt.show()"
   ]
  },
  {
   "cell_type": "markdown",
   "metadata": {},
   "source": [
    "### 2.)  Converting Categorical Variables to Numerical Variables"
   ]
  },
  {
   "cell_type": "code",
   "execution_count": 90,
   "metadata": {
    "ExecuteTime": {
     "end_time": "2023-10-05T17:00:08.322496Z",
     "start_time": "2023-10-05T17:00:08.265099Z"
    }
   },
   "outputs": [],
   "source": [
    "#Create prefix for dummy variables\n",
    "var_dummy_prefix_NL = \"NewLeague\"\n",
    "var_dummy_prefix_D = 'Division'\n",
    "var_dummy_prefix_L = 'League'\n",
    "\n",
    "#Find the highest count category\n",
    "# -----------New League -------------#\n",
    "df_dummy_NL = pd.DataFrame(df_Hi['NewLeague'].value_counts().reset_index())\n",
    "var_dummy_NL = df_dummy_NL.iloc[0, 0]\n",
    "\n",
    "# -----------Division----------------#\n",
    "df_dummy_D = pd.DataFrame(df_Hi['Division'].value_counts().reset_index())\n",
    "var_dummy_D = df_dummy_D.iloc[0, 0]\n",
    "\n",
    "# -----------League----------------#\n",
    "df_dummy_L = pd.DataFrame(df_Hi['League'].value_counts().reset_index())\n",
    "var_dummy_L = df_dummy_L.iloc[0, 0]\n",
    "\n",
    "#Create variable to drop the highest count column\n",
    "var_dumpre_NL = var_dummy_prefix_NL + \"_\" +  var_dummy_NL\n",
    "var_dumpre_D = var_dummy_prefix_D + \"_\" +  var_dummy_D\n",
    "var_dumpre_L = var_dummy_prefix_L + \"_\" +  var_dummy_L\n",
    "\n",
    "#Create dummy variables\n",
    "New_League_Dummies = pd.get_dummies(df_Hi['NewLeague'], drop_first = False, prefix=var_dummy_prefix_NL)\n",
    "Division_Dummies = pd.get_dummies(df_Hi['Division'], drop_first = False, prefix=var_dummy_prefix_D)\n",
    "League_Dummies = pd.get_dummies(df_Hi['League'], drop_first = False, prefix=var_dummy_prefix_L)\n",
    "\n",
    "#Drop the highest count dummy variable\n",
    "New_League_Dummies = New_League_Dummies.drop(var_dumpre_NL, axis = 1)\n",
    "Division_Dummies = Division_Dummies.drop(var_dumpre_D, axis = 1)\n",
    "League_Dummies = League_Dummies.drop(var_dumpre_L, axis = 1)"
   ]
  },
  {
   "cell_type": "code",
   "execution_count": 91,
   "metadata": {
    "collapsed": false,
    "ExecuteTime": {
     "end_time": "2023-10-05T17:00:08.325867Z",
     "start_time": "2023-10-05T17:00:08.289102Z"
    }
   },
   "outputs": [
    {
     "name": "stdout",
     "output_type": "stream",
     "text": [
      "<class 'pandas.core.frame.DataFrame'>\n",
      "RangeIndex: 322 entries, 0 to 321\n",
      "Data columns (total 20 columns):\n",
      " #   Column       Non-Null Count  Dtype  \n",
      "---  ------       --------------  -----  \n",
      " 0   AtBat        322 non-null    int64  \n",
      " 1   Hits         322 non-null    int64  \n",
      " 2   HmRun        322 non-null    int64  \n",
      " 3   Runs         322 non-null    int64  \n",
      " 4   RBI          322 non-null    int64  \n",
      " 5   Walks        322 non-null    int64  \n",
      " 6   Years        322 non-null    int64  \n",
      " 7   CAtBat       322 non-null    int64  \n",
      " 8   CHits        322 non-null    int64  \n",
      " 9   CHmRun       322 non-null    int64  \n",
      " 10  CRuns        322 non-null    int64  \n",
      " 11  CRBI         322 non-null    int64  \n",
      " 12  CWalks       322 non-null    int64  \n",
      " 13  PutOuts      322 non-null    int64  \n",
      " 14  Assists      322 non-null    int64  \n",
      " 15  Errors       322 non-null    int64  \n",
      " 16  Salary       322 non-null    float64\n",
      " 17  League_N     322 non-null    bool   \n",
      " 18  Division_E   322 non-null    bool   \n",
      " 19  NewLeague_N  322 non-null    bool   \n",
      "dtypes: bool(3), float64(1), int64(16)\n",
      "memory usage: 43.8 KB\n"
     ]
    }
   ],
   "source": [
    "\n",
    "df_Hi = pd.concat([df_Hi, League_Dummies,Division_Dummies,New_League_Dummies], axis=1)\n",
    "df_Hi = df_Hi.drop(['League','Division','NewLeague'], axis=1)\n",
    "df_Hi.info()"
   ]
  },
  {
   "attachments": {},
   "cell_type": "markdown",
   "metadata": {},
   "source": [
    "#### 3.)  Create the Meaningful Predictors"
   ]
  },
  {
   "cell_type": "code",
   "execution_count": 92,
   "metadata": {
    "ExecuteTime": {
     "end_time": "2023-10-05T17:00:08.326798Z",
     "start_time": "2023-10-05T17:00:08.305210Z"
    }
   },
   "outputs": [
    {
     "data": {
      "text/plain": "   AtBat  Hits  HmRun  Runs  RBI  Walks  Years  CAtBat  CHits  CHmRun  CRuns  \\\n0    315    81      7    24   38     39     14    3449    835      69    321   \n1    479   130     18    66   72     76      3    1624    457      63    224   \n2    496   141     20    65   78     37     11    5628   1575     225    828   \n3    321    87     10    39   42     30      2     396    101      12     48   \n4    594   169      4    74   51     35     11    4408   1133      19    501   \n\n   CRBI  CWalks  PutOuts  Assists  Errors  Salary  League_N  Division_E  \\\n0   414     375      632       43      10   475.0      True       False   \n1   266     263      880       82      14   480.0     False       False   \n2   838     354      200       11       3   500.0      True        True   \n3    46      33      805       40       4    91.5      True        True   \n4   336     194      282      421      25   750.0     False       False   \n\n   NewLeague_N  Abov_Med_Salary  \n0         True                1  \n1        False                1  \n2         True                1  \n3         True                0  \n4        False                1  ",
      "text/html": "<div>\n<style scoped>\n    .dataframe tbody tr th:only-of-type {\n        vertical-align: middle;\n    }\n\n    .dataframe tbody tr th {\n        vertical-align: top;\n    }\n\n    .dataframe thead th {\n        text-align: right;\n    }\n</style>\n<table border=\"1\" class=\"dataframe\">\n  <thead>\n    <tr style=\"text-align: right;\">\n      <th></th>\n      <th>AtBat</th>\n      <th>Hits</th>\n      <th>HmRun</th>\n      <th>Runs</th>\n      <th>RBI</th>\n      <th>Walks</th>\n      <th>Years</th>\n      <th>CAtBat</th>\n      <th>CHits</th>\n      <th>CHmRun</th>\n      <th>CRuns</th>\n      <th>CRBI</th>\n      <th>CWalks</th>\n      <th>PutOuts</th>\n      <th>Assists</th>\n      <th>Errors</th>\n      <th>Salary</th>\n      <th>League_N</th>\n      <th>Division_E</th>\n      <th>NewLeague_N</th>\n      <th>Abov_Med_Salary</th>\n    </tr>\n  </thead>\n  <tbody>\n    <tr>\n      <th>0</th>\n      <td>315</td>\n      <td>81</td>\n      <td>7</td>\n      <td>24</td>\n      <td>38</td>\n      <td>39</td>\n      <td>14</td>\n      <td>3449</td>\n      <td>835</td>\n      <td>69</td>\n      <td>321</td>\n      <td>414</td>\n      <td>375</td>\n      <td>632</td>\n      <td>43</td>\n      <td>10</td>\n      <td>475.0</td>\n      <td>True</td>\n      <td>False</td>\n      <td>True</td>\n      <td>1</td>\n    </tr>\n    <tr>\n      <th>1</th>\n      <td>479</td>\n      <td>130</td>\n      <td>18</td>\n      <td>66</td>\n      <td>72</td>\n      <td>76</td>\n      <td>3</td>\n      <td>1624</td>\n      <td>457</td>\n      <td>63</td>\n      <td>224</td>\n      <td>266</td>\n      <td>263</td>\n      <td>880</td>\n      <td>82</td>\n      <td>14</td>\n      <td>480.0</td>\n      <td>False</td>\n      <td>False</td>\n      <td>False</td>\n      <td>1</td>\n    </tr>\n    <tr>\n      <th>2</th>\n      <td>496</td>\n      <td>141</td>\n      <td>20</td>\n      <td>65</td>\n      <td>78</td>\n      <td>37</td>\n      <td>11</td>\n      <td>5628</td>\n      <td>1575</td>\n      <td>225</td>\n      <td>828</td>\n      <td>838</td>\n      <td>354</td>\n      <td>200</td>\n      <td>11</td>\n      <td>3</td>\n      <td>500.0</td>\n      <td>True</td>\n      <td>True</td>\n      <td>True</td>\n      <td>1</td>\n    </tr>\n    <tr>\n      <th>3</th>\n      <td>321</td>\n      <td>87</td>\n      <td>10</td>\n      <td>39</td>\n      <td>42</td>\n      <td>30</td>\n      <td>2</td>\n      <td>396</td>\n      <td>101</td>\n      <td>12</td>\n      <td>48</td>\n      <td>46</td>\n      <td>33</td>\n      <td>805</td>\n      <td>40</td>\n      <td>4</td>\n      <td>91.5</td>\n      <td>True</td>\n      <td>True</td>\n      <td>True</td>\n      <td>0</td>\n    </tr>\n    <tr>\n      <th>4</th>\n      <td>594</td>\n      <td>169</td>\n      <td>4</td>\n      <td>74</td>\n      <td>51</td>\n      <td>35</td>\n      <td>11</td>\n      <td>4408</td>\n      <td>1133</td>\n      <td>19</td>\n      <td>501</td>\n      <td>336</td>\n      <td>194</td>\n      <td>282</td>\n      <td>421</td>\n      <td>25</td>\n      <td>750.0</td>\n      <td>False</td>\n      <td>False</td>\n      <td>False</td>\n      <td>1</td>\n    </tr>\n  </tbody>\n</table>\n</div>"
     },
     "execution_count": 92,
     "metadata": {},
     "output_type": "execute_result"
    }
   ],
   "source": [
    "med_sal = df_Hi['Salary'].median()\n",
    "\n",
    "df_Hi['Abov_Med_Salary'] = df_Hi['Salary'].apply(lambda x: 1 if x > med_sal else 0)\n",
    "\n",
    "df_Hi.head()\n"
   ]
  },
  {
   "cell_type": "markdown",
   "metadata": {},
   "source": [
    "### 4.)  Create the 80/20 train test split and then standardize the data"
   ]
  },
  {
   "cell_type": "code",
   "execution_count": 93,
   "metadata": {
    "collapsed": false,
    "ExecuteTime": {
     "end_time": "2023-10-05T17:00:08.448829Z",
     "start_time": "2023-10-05T17:00:08.316757Z"
    }
   },
   "outputs": [],
   "source": [
    "# keep features only for X\n",
    "X = df_Hi.drop('Salary', axis = 1)\n",
    "\n",
    "# keep target variable only for y\n",
    "Y = df_Hi['Salary'] \n",
    "\n",
    "# split the train test, here we are doing 80/20 split\n",
    "X_train, X_test, Y_train, Y_test = train_test_split(X, Y, test_size = 0.2, random_state = 42)"
   ]
  },
  {
   "cell_type": "markdown",
   "metadata": {},
   "source": [
    "### Standardizing the Data"
   ]
  },
  {
   "cell_type": "code",
   "execution_count": 94,
   "metadata": {
    "ExecuteTime": {
     "end_time": "2023-10-05T17:00:08.481023Z",
     "start_time": "2023-10-05T17:00:08.328123Z"
    }
   },
   "outputs": [],
   "source": [
    "sc = StandardScaler()\n",
    "# fit the data i.e calculate the mean and sd of each coluns of X_train\n",
    "sc.fit(X_train)\n",
    "\n",
    "#transform the train data\n",
    "X_train_sc = sc.transform(X_train)\n",
    "X_train_sc = pd.DataFrame(X_train_sc, columns=X_train.columns)\n",
    "\n",
    "#transform the test data\n",
    "X_test_sc = sc.transform(X_test)\n",
    "X_test_sc = pd.DataFrame(X_test_sc, columns=X_test.columns)"
   ]
  },
  {
   "cell_type": "markdown",
   "metadata": {},
   "source": [
    "### 5.)  Run the Simple linear regression for each predictor with the Salary being the target variable"
   ]
  },
  {
   "cell_type": "code",
   "execution_count": 95,
   "metadata": {
    "ExecuteTime": {
     "end_time": "2023-10-05T17:00:08.560285Z",
     "start_time": "2023-10-05T17:00:08.426643Z"
    }
   },
   "outputs": [
    {
     "name": "stdout",
     "output_type": "stream",
     "text": [
      "R-squared score for AtBat: 0.10085330189527186\n",
      "Coefficient for AtBat: [148.61822523]\n",
      "R-squared score for Hits: 0.1392467131997841\n",
      "Coefficient for Hits: [165.82934604]\n",
      "R-squared score for HmRun: 0.02211283556791921\n",
      "Coefficient for HmRun: [156.06131377]\n",
      "R-squared score for Runs: 0.08163024309052713\n",
      "Coefficient for Runs: [170.38745944]\n",
      "R-squared score for RBI: 0.13503049531023736\n",
      "Coefficient for RBI: [179.20506008]\n",
      "R-squared score for Walks: 0.1200865001929845\n",
      "Coefficient for Walks: [180.64714737]\n",
      "R-squared score for Years: 0.13651470386489983\n",
      "Coefficient for Years: [156.38269485]\n",
      "R-squared score for CAtBat: 0.24583956644612415\n",
      "Coefficient for CAtBat: [198.98411439]\n",
      "R-squared score for CHits: 0.2802068068603947\n",
      "Coefficient for CHits: [205.65461126]\n",
      "R-squared score for CHmRun: 0.31048698496249316\n",
      "Coefficient for CHmRun: [184.03685995]\n",
      "R-squared score for CRuns: 0.27647600602252986\n",
      "Coefficient for CRuns: [215.43206726]\n",
      "R-squared score for CRBI: 0.3253138411812643\n",
      "Coefficient for CRBI: [205.16090723]\n",
      "R-squared score for CWalks: 0.17131915941209885\n",
      "Coefficient for CWalks: [195.80509808]\n",
      "R-squared score for PutOuts: 0.07497840749846507\n",
      "Coefficient for PutOuts: [135.61578584]\n",
      "R-squared score for Assists: -0.0005910478419886012\n",
      "Coefficient for Assists: [1.46379236]\n",
      "R-squared score for Errors: -0.01593708351966594\n",
      "Coefficient for Errors: [-21.57535485]\n",
      "R-squared score for League_N: -0.0007562501169062763\n",
      "Coefficient for League_N: [-0.31603711]\n",
      "R-squared score for Division_E: 0.016432505449140433\n",
      "Coefficient for Division_E: [61.69420721]\n",
      "R-squared score for NewLeague_N: 0.0017866423682915133\n",
      "Coefficient for NewLeague_N: [-4.64925919]\n",
      "R-squared score for Abov_Med_Salary: 0.46398992958947793\n",
      "Coefficient for Abov_Med_Salary: [311.31140944]\n"
     ]
    }
   ],
   "source": [
    "from sklearn.linear_model import LinearRegression\n",
    "\n",
    "lr = LinearRegression()\n",
    "\n",
    "predictors = X_train_sc.columns\n",
    "\n",
    "r_squared_values = []\n",
    "coefficients = []\n",
    "\n",
    "for predictor in predictors:\n",
    "    X_train_predictor = X_train_sc[[predictor]]\n",
    "    X_test_predictor = X_test_sc[[predictor]]\n",
    "    \n",
    "    lr.fit(X_train_predictor, Y_train)\n",
    "    \n",
    "    predictions = lr.predict(X_test_predictor)\n",
    "    \n",
    "    # Calculate and print the R-squared score\n",
    "    r_squared = lr.score(X_test_predictor, Y_test)\n",
    "    r_squared_values.append(r_squared)\n",
    "    coefficients.append(lr.coef_)\n",
    "    \n",
    "for i in range(len(r_squared_values)):\n",
    "    print(f\"R-squared score for {predictors[i]}: {r_squared_values[i]}\")\n",
    "    print(f\"Coefficient for {predictors[i]}: {coefficients[i]}\")"
   ]
  },
  {
   "cell_type": "markdown",
   "metadata": {},
   "source": [
    "#### 6. Explain the relationship of each individual predictor with the target variable\n",
    "\n",
    "The R-squared score for each predictor indicates the estimated effect of the predictor on the target variable."
   ]
  },
  {
   "cell_type": "markdown",
   "metadata": {
    "collapsed": false
   },
   "source": [
    "### 7.  Write the Simple Linear Regression Equation"
   ]
  },
  {
   "cell_type": "code",
   "execution_count": 96,
   "metadata": {
    "collapsed": false,
    "ExecuteTime": {
     "end_time": "2023-10-05T17:00:08.560684Z",
     "start_time": "2023-10-05T17:00:08.441151Z"
    }
   },
   "outputs": [
    {
     "name": "stdout",
     "output_type": "stream",
     "text": [
      "Simple Linear Regression Equation: Salary = (Coefficient * Predictor) + Intercept\n",
      "Career At-Bat Equation: Salary = ([198.98411439] * Career At-Bats) + 526.2150477859924\n",
      "Career Hits Equation: Salary = ([205.65461126] * Career Hits) + 526.2150477859924\n",
      "Career Home Run Equation: Salary = ([184.03685995] * Career Home Runs) + 526.2150477859924\n",
      "Career Runs Equation: Salary = ([215.43206726] * Career Runs) + 526.2150477859924\n",
      "Career Runs Batted Equation: Salary = ([205.16090723] * Career Runs Batted) + 526.2150477859924\n"
     ]
    }
   ],
   "source": [
    "slope = lr.coef_[0]  # Coefficient of the predictor\n",
    "intercept = lr.intercept_ \n",
    "\n",
    "print(f\"Simple Linear Regression Equation: Salary = (Coefficient * Predictor) + Intercept\")\n",
    "\n",
    "# Equation for Career At Bat:\n",
    "print(f\"Career At-Bat Equation: Salary = ({coefficients[7]} * Career At-Bats) + {intercept}\")\n",
    "\n",
    "# Equation for Career Hits:\n",
    "print(f\"Career Hits Equation: Salary = ({coefficients[8]} * Career Hits) + {intercept}\")\n",
    "\n",
    "# Equation for Career Home Runs:\n",
    "print(f\"Career Home Run Equation: Salary = ({coefficients[9]} * Career Home Runs) + {intercept}\")\n",
    "\n",
    "# Equation for Career Runs:\n",
    "print(f\"Career Runs Equation: Salary = ({coefficients[10]} * Career Runs) + {intercept}\")\n",
    "\n",
    "# Equation for Career Runs Batted:\n",
    "print(f\"Career Runs Batted Equation: Salary = ({coefficients[11]} * Career Runs Batted) + {intercept}\")"
   ]
  },
  {
   "cell_type": "markdown",
   "metadata": {
    "collapsed": false
   },
   "source": [
    "#### 8.)  Discuss which variable is the most significant predictor of the players' salary\n",
    "\n",
    "The CAtBat, CHits, CHmRun, CRuns, and CRBI variables have the highest R-Squared value. This indicates that these variables have the highest estimated effect on the player's salary."
   ]
  },
  {
   "cell_type": "markdown",
   "metadata": {
    "collapsed": false
   },
   "source": [
    "#### 9.) Explore the various accuracy measures such as MAPE, RMSE, R^2. What do those values mean in terms of your problem? Explain."
   ]
  },
  {
   "cell_type": "code",
   "execution_count": 97,
   "metadata": {
    "collapsed": false,
    "ExecuteTime": {
     "end_time": "2023-10-05T17:00:08.562571Z",
     "start_time": "2023-10-05T17:00:08.450766Z"
    }
   },
   "outputs": [
    {
     "name": "stdout",
     "output_type": "stream",
     "text": [
      "The test RMSE is:\t383.858\n",
      "The test MAE is:\t217.33\n",
      "The test Rsquared is:\t0.464\n",
      "The test MAPE is:\t0.5059\n"
     ]
    }
   ],
   "source": [
    "# Calculate the estimated y values using the test dataset\n",
    "y_hat_test = predictions\n",
    "\n",
    "test_mse = mean_squared_error(Y_test, y_hat_test)\n",
    "test_rmse = np.sqrt(test_mse)\n",
    "test_mae = mean_absolute_error(Y_test, y_hat_test)\n",
    "test_r_squared = r2_score(Y_test, y_hat_test)\n",
    "test_mape = mean_absolute_percentage_error(Y_test, y_hat_test)\n",
    "\n",
    "print(f'The test RMSE is:\\t{round(test_rmse, 3)}')\n",
    "print(f'The test MAE is:\\t{round(test_mae, 3)}')\n",
    "print(f'The test Rsquared is:\\t{round(test_r_squared, 4)}')\n",
    "print(f'The test MAPE is:\\t{round(test_mape, 4)}')"
   ]
  },
  {
   "cell_type": "markdown",
   "metadata": {
    "collapsed": false
   },
   "source": [
    "#### 10.)  Perform multiple linear regression taking three predictors that you observe most relevant for predicting salary."
   ]
  },
  {
   "cell_type": "code",
   "execution_count": 98,
   "metadata": {
    "collapsed": false,
    "ExecuteTime": {
     "end_time": "2023-10-05T17:00:08.562783Z",
     "start_time": "2023-10-05T17:00:08.455698Z"
    }
   },
   "outputs": [],
   "source": [
    "#import the libraries\n",
    "import statsmodels\n",
    "import statsmodels.api as sm\n",
    "import statsmodels.formula.api as smf"
   ]
  },
  {
   "cell_type": "code",
   "execution_count": 99,
   "metadata": {
    "collapsed": false,
    "ExecuteTime": {
     "end_time": "2023-10-05T17:00:08.667095Z",
     "start_time": "2023-10-05T17:00:08.463297Z"
    }
   },
   "outputs": [
    {
     "data": {
      "text/plain": "<class 'statsmodels.iolib.summary.Summary'>\n\"\"\"\n                            OLS Regression Results                            \n==============================================================================\nDep. Variable:                      y   R-squared:                       0.341\nModel:                            OLS   Adj. R-squared:                  0.327\nMethod:                 Least Squares   F-statistic:                     25.92\nDate:                Thu, 05 Oct 2023   Prob (F-statistic):           4.44e-21\nTime:                        12:00:08   Log-Likelihood:                -1854.6\nNo. Observations:                 257   AIC:                             3721.\nDf Residuals:                     251   BIC:                             3743.\nDf Model:                           5                                         \nCovariance Type:            nonrobust                                         \n==============================================================================\n                 coef    std err          t      P>|t|      [0.025      0.975]\n------------------------------------------------------------------------------\nconst        526.2150     20.796     25.303      0.000     485.257     567.173\nCAtBat      -940.0812    234.087     -4.016      0.000   -1401.106    -479.056\nCHits        314.5538    321.312      0.979      0.329    -318.257     947.365\nCHmRun      -136.8184    122.685     -1.115      0.266    -378.442     104.806\nCRuns        605.2752    166.495      3.635      0.000     277.371     933.180\nCRBI         356.8496    212.832      1.677      0.095     -62.314     776.014\n==============================================================================\nOmnibus:                       60.000   Durbin-Watson:                   1.899\nProb(Omnibus):                  0.000   Jarque-Bera (JB):              134.513\nSkew:                           1.116   Prob(JB):                     6.18e-30\nKurtosis:                       5.753   Cond. No.                         42.1\n==============================================================================\n\nNotes:\n[1] Standard Errors assume that the covariance matrix of the errors is correctly specified.\n\"\"\"",
      "text/html": "<table class=\"simpletable\">\n<caption>OLS Regression Results</caption>\n<tr>\n  <th>Dep. Variable:</th>            <td>y</td>        <th>  R-squared:         </th> <td>   0.341</td>\n</tr>\n<tr>\n  <th>Model:</th>                   <td>OLS</td>       <th>  Adj. R-squared:    </th> <td>   0.327</td>\n</tr>\n<tr>\n  <th>Method:</th>             <td>Least Squares</td>  <th>  F-statistic:       </th> <td>   25.92</td>\n</tr>\n<tr>\n  <th>Date:</th>             <td>Thu, 05 Oct 2023</td> <th>  Prob (F-statistic):</th> <td>4.44e-21</td>\n</tr>\n<tr>\n  <th>Time:</th>                 <td>12:00:08</td>     <th>  Log-Likelihood:    </th> <td> -1854.6</td>\n</tr>\n<tr>\n  <th>No. Observations:</th>      <td>   257</td>      <th>  AIC:               </th> <td>   3721.</td>\n</tr>\n<tr>\n  <th>Df Residuals:</th>          <td>   251</td>      <th>  BIC:               </th> <td>   3743.</td>\n</tr>\n<tr>\n  <th>Df Model:</th>              <td>     5</td>      <th>                     </th>     <td> </td>   \n</tr>\n<tr>\n  <th>Covariance Type:</th>      <td>nonrobust</td>    <th>                     </th>     <td> </td>   \n</tr>\n</table>\n<table class=\"simpletable\">\n<tr>\n     <td></td>       <th>coef</th>     <th>std err</th>      <th>t</th>      <th>P>|t|</th>  <th>[0.025</th>    <th>0.975]</th>  \n</tr>\n<tr>\n  <th>const</th>  <td>  526.2150</td> <td>   20.796</td> <td>   25.303</td> <td> 0.000</td> <td>  485.257</td> <td>  567.173</td>\n</tr>\n<tr>\n  <th>CAtBat</th> <td> -940.0812</td> <td>  234.087</td> <td>   -4.016</td> <td> 0.000</td> <td>-1401.106</td> <td> -479.056</td>\n</tr>\n<tr>\n  <th>CHits</th>  <td>  314.5538</td> <td>  321.312</td> <td>    0.979</td> <td> 0.329</td> <td> -318.257</td> <td>  947.365</td>\n</tr>\n<tr>\n  <th>CHmRun</th> <td> -136.8184</td> <td>  122.685</td> <td>   -1.115</td> <td> 0.266</td> <td> -378.442</td> <td>  104.806</td>\n</tr>\n<tr>\n  <th>CRuns</th>  <td>  605.2752</td> <td>  166.495</td> <td>    3.635</td> <td> 0.000</td> <td>  277.371</td> <td>  933.180</td>\n</tr>\n<tr>\n  <th>CRBI</th>   <td>  356.8496</td> <td>  212.832</td> <td>    1.677</td> <td> 0.095</td> <td>  -62.314</td> <td>  776.014</td>\n</tr>\n</table>\n<table class=\"simpletable\">\n<tr>\n  <th>Omnibus:</th>       <td>60.000</td> <th>  Durbin-Watson:     </th> <td>   1.899</td>\n</tr>\n<tr>\n  <th>Prob(Omnibus):</th> <td> 0.000</td> <th>  Jarque-Bera (JB):  </th> <td> 134.513</td>\n</tr>\n<tr>\n  <th>Skew:</th>          <td> 1.116</td> <th>  Prob(JB):          </th> <td>6.18e-30</td>\n</tr>\n<tr>\n  <th>Kurtosis:</th>      <td> 5.753</td> <th>  Cond. No.          </th> <td>    42.1</td>\n</tr>\n</table><br/><br/>Notes:<br/>[1] Standard Errors assume that the covariance matrix of the errors is correctly specified.",
      "text/latex": "\\begin{center}\n\\begin{tabular}{lclc}\n\\toprule\n\\textbf{Dep. Variable:}    &        y         & \\textbf{  R-squared:         } &     0.341   \\\\\n\\textbf{Model:}            &       OLS        & \\textbf{  Adj. R-squared:    } &     0.327   \\\\\n\\textbf{Method:}           &  Least Squares   & \\textbf{  F-statistic:       } &     25.92   \\\\\n\\textbf{Date:}             & Thu, 05 Oct 2023 & \\textbf{  Prob (F-statistic):} &  4.44e-21   \\\\\n\\textbf{Time:}             &     12:00:08     & \\textbf{  Log-Likelihood:    } &   -1854.6   \\\\\n\\textbf{No. Observations:} &         257      & \\textbf{  AIC:               } &     3721.   \\\\\n\\textbf{Df Residuals:}     &         251      & \\textbf{  BIC:               } &     3743.   \\\\\n\\textbf{Df Model:}         &           5      & \\textbf{                     } &             \\\\\n\\textbf{Covariance Type:}  &    nonrobust     & \\textbf{                     } &             \\\\\n\\bottomrule\n\\end{tabular}\n\\begin{tabular}{lcccccc}\n                & \\textbf{coef} & \\textbf{std err} & \\textbf{t} & \\textbf{P$> |$t$|$} & \\textbf{[0.025} & \\textbf{0.975]}  \\\\\n\\midrule\n\\textbf{const}  &     526.2150  &       20.796     &    25.303  &         0.000        &      485.257    &      567.173     \\\\\n\\textbf{CAtBat} &    -940.0812  &      234.087     &    -4.016  &         0.000        &    -1401.106    &     -479.056     \\\\\n\\textbf{CHits}  &     314.5538  &      321.312     &     0.979  &         0.329        &     -318.257    &      947.365     \\\\\n\\textbf{CHmRun} &    -136.8184  &      122.685     &    -1.115  &         0.266        &     -378.442    &      104.806     \\\\\n\\textbf{CRuns}  &     605.2752  &      166.495     &     3.635  &         0.000        &      277.371    &      933.180     \\\\\n\\textbf{CRBI}   &     356.8496  &      212.832     &     1.677  &         0.095        &      -62.314    &      776.014     \\\\\n\\bottomrule\n\\end{tabular}\n\\begin{tabular}{lclc}\n\\textbf{Omnibus:}       & 60.000 & \\textbf{  Durbin-Watson:     } &    1.899  \\\\\n\\textbf{Prob(Omnibus):} &  0.000 & \\textbf{  Jarque-Bera (JB):  } &  134.513  \\\\\n\\textbf{Skew:}          &  1.116 & \\textbf{  Prob(JB):          } & 6.18e-30  \\\\\n\\textbf{Kurtosis:}      &  5.753 & \\textbf{  Cond. No.          } &     42.1  \\\\\n\\bottomrule\n\\end{tabular}\n%\\caption{OLS Regression Results}\n\\end{center}\n\nNotes: \\newline\n [1] Standard Errors assume that the covariance matrix of the errors is correctly specified."
     },
     "execution_count": 99,
     "metadata": {},
     "output_type": "execute_result"
    }
   ],
   "source": [
    "r2_sig_preds = ['CAtBat', 'CHits', 'CHmRun', 'CRuns', 'CRBI']\n",
    "X_reg = X_train_sc[r2_sig_preds]\n",
    "X_reg = sm.add_constant(X_reg) # adding a constant\n",
    "reg1 = sm.OLS(np.asarray(Y_train), X_reg).fit() \n",
    "pred = reg1.predict(X_reg) \n",
    "\n",
    "reg1.summary()"
   ]
  },
  {
   "cell_type": "code",
   "execution_count": 100,
   "metadata": {
    "ExecuteTime": {
     "end_time": "2023-10-05T17:00:08.720605Z",
     "start_time": "2023-10-05T17:00:08.485609Z"
    }
   },
   "outputs": [
    {
     "data": {
      "text/plain": "<class 'statsmodels.iolib.summary.Summary'>\n\"\"\"\n                            OLS Regression Results                            \n==============================================================================\nDep. Variable:                      y   R-squared:                       0.338\nModel:                            OLS   Adj. R-squared:                  0.328\nMethod:                 Least Squares   F-statistic:                     32.17\nDate:                Thu, 05 Oct 2023   Prob (F-statistic):           1.16e-21\nTime:                        12:00:08   Log-Likelihood:                -1855.1\nNo. Observations:                 257   AIC:                             3720.\nDf Residuals:                     252   BIC:                             3738.\nDf Model:                           4                                         \nCovariance Type:            nonrobust                                         \n==============================================================================\n                 coef    std err          t      P>|t|      [0.025      0.975]\n------------------------------------------------------------------------------\nconst        526.2150     20.795     25.305      0.000     485.262     567.169\nCAtBat      -787.4944    174.636     -4.509      0.000   -1131.427    -443.562\nCHmRun      -219.2401     89.230     -2.457      0.015    -394.972     -43.508\nCRuns        709.4647    128.027      5.542      0.000     457.326     961.603\nCRBI         486.6769    166.450      2.924      0.004     158.866     814.488\n==============================================================================\nOmnibus:                       58.401   Durbin-Watson:                   1.894\nProb(Omnibus):                  0.000   Jarque-Bera (JB):              122.094\nSkew:                           1.119   Prob(JB):                     3.07e-27\nKurtosis:                       5.529   Cond. No.                         23.4\n==============================================================================\n\nNotes:\n[1] Standard Errors assume that the covariance matrix of the errors is correctly specified.\n\"\"\"",
      "text/html": "<table class=\"simpletable\">\n<caption>OLS Regression Results</caption>\n<tr>\n  <th>Dep. Variable:</th>            <td>y</td>        <th>  R-squared:         </th> <td>   0.338</td>\n</tr>\n<tr>\n  <th>Model:</th>                   <td>OLS</td>       <th>  Adj. R-squared:    </th> <td>   0.328</td>\n</tr>\n<tr>\n  <th>Method:</th>             <td>Least Squares</td>  <th>  F-statistic:       </th> <td>   32.17</td>\n</tr>\n<tr>\n  <th>Date:</th>             <td>Thu, 05 Oct 2023</td> <th>  Prob (F-statistic):</th> <td>1.16e-21</td>\n</tr>\n<tr>\n  <th>Time:</th>                 <td>12:00:08</td>     <th>  Log-Likelihood:    </th> <td> -1855.1</td>\n</tr>\n<tr>\n  <th>No. Observations:</th>      <td>   257</td>      <th>  AIC:               </th> <td>   3720.</td>\n</tr>\n<tr>\n  <th>Df Residuals:</th>          <td>   252</td>      <th>  BIC:               </th> <td>   3738.</td>\n</tr>\n<tr>\n  <th>Df Model:</th>              <td>     4</td>      <th>                     </th>     <td> </td>   \n</tr>\n<tr>\n  <th>Covariance Type:</th>      <td>nonrobust</td>    <th>                     </th>     <td> </td>   \n</tr>\n</table>\n<table class=\"simpletable\">\n<tr>\n     <td></td>       <th>coef</th>     <th>std err</th>      <th>t</th>      <th>P>|t|</th>  <th>[0.025</th>    <th>0.975]</th>  \n</tr>\n<tr>\n  <th>const</th>  <td>  526.2150</td> <td>   20.795</td> <td>   25.305</td> <td> 0.000</td> <td>  485.262</td> <td>  567.169</td>\n</tr>\n<tr>\n  <th>CAtBat</th> <td> -787.4944</td> <td>  174.636</td> <td>   -4.509</td> <td> 0.000</td> <td>-1131.427</td> <td> -443.562</td>\n</tr>\n<tr>\n  <th>CHmRun</th> <td> -219.2401</td> <td>   89.230</td> <td>   -2.457</td> <td> 0.015</td> <td> -394.972</td> <td>  -43.508</td>\n</tr>\n<tr>\n  <th>CRuns</th>  <td>  709.4647</td> <td>  128.027</td> <td>    5.542</td> <td> 0.000</td> <td>  457.326</td> <td>  961.603</td>\n</tr>\n<tr>\n  <th>CRBI</th>   <td>  486.6769</td> <td>  166.450</td> <td>    2.924</td> <td> 0.004</td> <td>  158.866</td> <td>  814.488</td>\n</tr>\n</table>\n<table class=\"simpletable\">\n<tr>\n  <th>Omnibus:</th>       <td>58.401</td> <th>  Durbin-Watson:     </th> <td>   1.894</td>\n</tr>\n<tr>\n  <th>Prob(Omnibus):</th> <td> 0.000</td> <th>  Jarque-Bera (JB):  </th> <td> 122.094</td>\n</tr>\n<tr>\n  <th>Skew:</th>          <td> 1.119</td> <th>  Prob(JB):          </th> <td>3.07e-27</td>\n</tr>\n<tr>\n  <th>Kurtosis:</th>      <td> 5.529</td> <th>  Cond. No.          </th> <td>    23.4</td>\n</tr>\n</table><br/><br/>Notes:<br/>[1] Standard Errors assume that the covariance matrix of the errors is correctly specified.",
      "text/latex": "\\begin{center}\n\\begin{tabular}{lclc}\n\\toprule\n\\textbf{Dep. Variable:}    &        y         & \\textbf{  R-squared:         } &     0.338   \\\\\n\\textbf{Model:}            &       OLS        & \\textbf{  Adj. R-squared:    } &     0.328   \\\\\n\\textbf{Method:}           &  Least Squares   & \\textbf{  F-statistic:       } &     32.17   \\\\\n\\textbf{Date:}             & Thu, 05 Oct 2023 & \\textbf{  Prob (F-statistic):} &  1.16e-21   \\\\\n\\textbf{Time:}             &     12:00:08     & \\textbf{  Log-Likelihood:    } &   -1855.1   \\\\\n\\textbf{No. Observations:} &         257      & \\textbf{  AIC:               } &     3720.   \\\\\n\\textbf{Df Residuals:}     &         252      & \\textbf{  BIC:               } &     3738.   \\\\\n\\textbf{Df Model:}         &           4      & \\textbf{                     } &             \\\\\n\\textbf{Covariance Type:}  &    nonrobust     & \\textbf{                     } &             \\\\\n\\bottomrule\n\\end{tabular}\n\\begin{tabular}{lcccccc}\n                & \\textbf{coef} & \\textbf{std err} & \\textbf{t} & \\textbf{P$> |$t$|$} & \\textbf{[0.025} & \\textbf{0.975]}  \\\\\n\\midrule\n\\textbf{const}  &     526.2150  &       20.795     &    25.305  &         0.000        &      485.262    &      567.169     \\\\\n\\textbf{CAtBat} &    -787.4944  &      174.636     &    -4.509  &         0.000        &    -1131.427    &     -443.562     \\\\\n\\textbf{CHmRun} &    -219.2401  &       89.230     &    -2.457  &         0.015        &     -394.972    &      -43.508     \\\\\n\\textbf{CRuns}  &     709.4647  &      128.027     &     5.542  &         0.000        &      457.326    &      961.603     \\\\\n\\textbf{CRBI}   &     486.6769  &      166.450     &     2.924  &         0.004        &      158.866    &      814.488     \\\\\n\\bottomrule\n\\end{tabular}\n\\begin{tabular}{lclc}\n\\textbf{Omnibus:}       & 58.401 & \\textbf{  Durbin-Watson:     } &    1.894  \\\\\n\\textbf{Prob(Omnibus):} &  0.000 & \\textbf{  Jarque-Bera (JB):  } &  122.094  \\\\\n\\textbf{Skew:}          &  1.119 & \\textbf{  Prob(JB):          } & 3.07e-27  \\\\\n\\textbf{Kurtosis:}      &  5.529 & \\textbf{  Cond. No.          } &     23.4  \\\\\n\\bottomrule\n\\end{tabular}\n%\\caption{OLS Regression Results}\n\\end{center}\n\nNotes: \\newline\n [1] Standard Errors assume that the covariance matrix of the errors is correctly specified."
     },
     "execution_count": 100,
     "metadata": {},
     "output_type": "execute_result"
    }
   ],
   "source": [
    "# Drop CHits since it has a P value > 0.05.\n",
    "\n",
    "X_reg = X_reg.drop('CHits', axis = 1)\n",
    "X_reg = sm.add_constant(X_reg) # adding a constant\n",
    " \n",
    "reg2 = sm.OLS(np.asarray(Y_train), X_reg).fit()\n",
    "pred2 = reg2.predict(X_reg) \n",
    " \n",
    "reg2.summary()"
   ]
  },
  {
   "cell_type": "markdown",
   "metadata": {
    "collapsed": false
   },
   "source": [
    "## 11.) Discuss your observations.\n"
   ]
  },
  {
   "cell_type": "markdown",
   "metadata": {
    "collapsed": false
   },
   "source": [
    "We found that so-and-so predictor was the best indicator of salary for so-and-so reasons."
   ]
  },
  {
   "cell_type": "markdown",
   "metadata": {
    "collapsed": false
   },
   "source": [
    "## 12.) Provide a summary of the result."
   ]
  },
  {
   "cell_type": "markdown",
   "metadata": {
    "collapsed": false
   },
   "source": [
    "Summary goes here"
   ]
  },
  {
   "cell_type": "markdown",
   "source": [
    "### DATA DIVE Regression: DAY 2 Task\n",
    "* At this point, you have already explored the data, created some visualizations, conduct the\n",
    "feature engineering, and fitted the OLS regression models."
   ],
   "metadata": {
    "collapsed": false
   }
  },
  {
   "cell_type": "markdown",
   "source": [
    "## Step 1"
   ],
   "metadata": {
    "collapsed": false
   }
  },
  {
   "cell_type": "markdown",
   "source": [
    "## 1.)  Run the Multiple linear regression using all predictors with the Salary being the target variable"
   ],
   "metadata": {
    "collapsed": false
   }
  },
  {
   "cell_type": "code",
   "execution_count": 100,
   "outputs": [],
   "source": [],
   "metadata": {
    "collapsed": false,
    "ExecuteTime": {
     "end_time": "2023-10-05T17:00:08.720799Z",
     "start_time": "2023-10-05T17:00:08.512223Z"
    }
   }
  },
  {
   "cell_type": "markdown",
   "source": [
    "## 2.)  Use Backward elimination on the model for feature selection and build the final model"
   ],
   "metadata": {
    "collapsed": false
   }
  },
  {
   "cell_type": "code",
   "execution_count": 100,
   "outputs": [],
   "source": [],
   "metadata": {
    "collapsed": false,
    "ExecuteTime": {
     "end_time": "2023-10-05T17:00:08.720885Z",
     "start_time": "2023-10-05T17:00:08.516685Z"
    }
   }
  },
  {
   "cell_type": "markdown",
   "source": [],
   "metadata": {
    "collapsed": false
   }
  },
  {
   "cell_type": "markdown",
   "source": [
    "## 3.)  Explain the relationship of each individual predictor with the target variable"
   ],
   "metadata": {
    "collapsed": false
   }
  },
  {
   "cell_type": "code",
   "execution_count": 100,
   "outputs": [],
   "source": [],
   "metadata": {
    "collapsed": false,
    "ExecuteTime": {
     "end_time": "2023-10-05T17:00:08.720963Z",
     "start_time": "2023-10-05T17:00:08.521001Z"
    }
   }
  },
  {
   "cell_type": "markdown",
   "source": [
    "## 4.)  Write the multiple linear regression equation"
   ],
   "metadata": {
    "collapsed": false
   }
  },
  {
   "cell_type": "code",
   "execution_count": 100,
   "outputs": [],
   "source": [],
   "metadata": {
    "collapsed": false,
    "ExecuteTime": {
     "end_time": "2023-10-05T17:00:08.721072Z",
     "start_time": "2023-10-05T17:00:08.525939Z"
    }
   }
  },
  {
   "cell_type": "markdown",
   "source": [
    "## 5.)  Explore the various accuracy measures such as MAPE, RMSE, R^2. What do those values mean in terms of your problem? Explain."
   ],
   "metadata": {
    "collapsed": false
   }
  },
  {
   "cell_type": "code",
   "execution_count": 100,
   "outputs": [],
   "source": [],
   "metadata": {
    "collapsed": false,
    "ExecuteTime": {
     "end_time": "2023-10-05T17:00:08.721218Z",
     "start_time": "2023-10-05T17:00:08.532142Z"
    }
   }
  },
  {
   "cell_type": "markdown",
   "source": [
    "## 6.)  Discuss with your group and provide a summary of the result."
   ],
   "metadata": {
    "collapsed": false
   }
  },
  {
   "cell_type": "code",
   "execution_count": 100,
   "outputs": [],
   "source": [],
   "metadata": {
    "collapsed": false,
    "ExecuteTime": {
     "end_time": "2023-10-05T17:00:08.721602Z",
     "start_time": "2023-10-05T17:00:08.536361Z"
    }
   }
  },
  {
   "cell_type": "markdown",
   "source": [
    "## 7.)  Plan for the 3 minutes presentation of your findings to the class."
   ],
   "metadata": {
    "collapsed": false
   }
  },
  {
   "cell_type": "markdown",
   "source": [
    "## Step 2"
   ],
   "metadata": {
    "collapsed": false
   }
  },
  {
   "cell_type": "markdown",
   "source": [
    "## 1.)  Run the Lasso regression using all predictors with the Salary being the target variable"
   ],
   "metadata": {
    "collapsed": false
   }
  },
  {
   "cell_type": "code",
   "execution_count": 100,
   "outputs": [],
   "source": [],
   "metadata": {
    "collapsed": false,
    "ExecuteTime": {
     "end_time": "2023-10-05T17:00:08.723227Z",
     "start_time": "2023-10-05T17:00:08.541496Z"
    }
   }
  },
  {
   "cell_type": "markdown",
   "source": [
    "## 2.)  Use the grid search to find the best value of lambda in your lasso model and build the final\n",
    "model"
   ],
   "metadata": {
    "collapsed": false
   }
  },
  {
   "cell_type": "code",
   "execution_count": 100,
   "outputs": [],
   "source": [],
   "metadata": {
    "collapsed": false,
    "ExecuteTime": {
     "end_time": "2023-10-05T17:00:08.729346Z",
     "start_time": "2023-10-05T17:00:08.545708Z"
    }
   }
  },
  {
   "cell_type": "markdown",
   "source": [
    "## 3.)  Explore the relationship of each individual predictor with the target variable"
   ],
   "metadata": {
    "collapsed": false
   }
  },
  {
   "cell_type": "code",
   "execution_count": 100,
   "outputs": [],
   "source": [],
   "metadata": {
    "collapsed": false,
    "ExecuteTime": {
     "end_time": "2023-10-05T17:00:08.729587Z",
     "start_time": "2023-10-05T17:00:08.549971Z"
    }
   }
  },
  {
   "cell_type": "markdown",
   "source": [
    "## 4.)  List all the predictors that are considered insignificant by the lasso regression. Did you find\n",
    "anything interesting?"
   ],
   "metadata": {
    "collapsed": false
   }
  },
  {
   "cell_type": "code",
   "execution_count": 100,
   "outputs": [],
   "source": [],
   "metadata": {
    "collapsed": false,
    "ExecuteTime": {
     "end_time": "2023-10-05T17:00:08.729705Z",
     "start_time": "2023-10-05T17:00:08.554092Z"
    }
   }
  },
  {
   "cell_type": "markdown",
   "source": [
    "## 5.)  Write the lasso regression equation"
   ],
   "metadata": {
    "collapsed": false
   }
  },
  {
   "cell_type": "code",
   "execution_count": 100,
   "outputs": [],
   "source": [],
   "metadata": {
    "collapsed": false,
    "ExecuteTime": {
     "end_time": "2023-10-05T17:00:08.765574Z",
     "start_time": "2023-10-05T17:00:08.563569Z"
    }
   }
  },
  {
   "cell_type": "markdown",
   "source": [
    "## 6.)  Explore the various accuracy measures such as MAPE, RMSE, R^2. What do those values\n",
    "mean in terms of your problem? Explain."
   ],
   "metadata": {
    "collapsed": false
   }
  },
  {
   "cell_type": "markdown",
   "source": [],
   "metadata": {
    "collapsed": false
   }
  },
  {
   "cell_type": "markdown",
   "source": [
    "## 7.)  Create some useful visualization that provides insights into the results."
   ],
   "metadata": {
    "collapsed": false
   }
  },
  {
   "cell_type": "code",
   "execution_count": 100,
   "outputs": [],
   "source": [],
   "metadata": {
    "collapsed": false,
    "ExecuteTime": {
     "end_time": "2023-10-05T17:00:08.766081Z",
     "start_time": "2023-10-05T17:00:08.567164Z"
    }
   }
  },
  {
   "cell_type": "markdown",
   "source": [
    "## 8.)  Discuss with your group and provide a summary of the result."
   ],
   "metadata": {
    "collapsed": false
   }
  },
  {
   "cell_type": "code",
   "execution_count": 100,
   "outputs": [],
   "source": [],
   "metadata": {
    "collapsed": false,
    "ExecuteTime": {
     "end_time": "2023-10-05T17:00:08.766260Z",
     "start_time": "2023-10-05T17:00:08.571863Z"
    }
   }
  },
  {
   "cell_type": "markdown",
   "source": [
    "## Step 3"
   ],
   "metadata": {
    "collapsed": false
   }
  },
  {
   "cell_type": "markdown",
   "source": [
    "## 1.)  Run the Ridge regression using all predictors with the Salary being the target variable"
   ],
   "metadata": {
    "collapsed": false
   }
  },
  {
   "cell_type": "code",
   "execution_count": 100,
   "outputs": [],
   "source": [],
   "metadata": {
    "collapsed": false,
    "ExecuteTime": {
     "end_time": "2023-10-05T17:00:08.766543Z",
     "start_time": "2023-10-05T17:00:08.576853Z"
    }
   }
  },
  {
   "cell_type": "markdown",
   "source": [
    "## 2.)  Use the grid search to find the best value of lambda in your Ridge model and build the final model"
   ],
   "metadata": {
    "collapsed": false
   }
  },
  {
   "cell_type": "code",
   "execution_count": 100,
   "outputs": [],
   "source": [],
   "metadata": {
    "collapsed": false,
    "ExecuteTime": {
     "end_time": "2023-10-05T17:00:08.766690Z",
     "start_time": "2023-10-05T17:00:08.580327Z"
    }
   }
  },
  {
   "cell_type": "markdown",
   "source": [
    "## 3.)  Explore the relationship of each individual predictor with the target variable"
   ],
   "metadata": {
    "collapsed": false
   }
  },
  {
   "cell_type": "code",
   "execution_count": 100,
   "outputs": [],
   "source": [],
   "metadata": {
    "collapsed": false,
    "ExecuteTime": {
     "end_time": "2023-10-05T17:00:08.767057Z",
     "start_time": "2023-10-05T17:00:08.584240Z"
    }
   }
  },
  {
   "cell_type": "markdown",
   "source": [
    "## 4.)  Is there any predictors that are considered insignificant by the Ridge regression?"
   ],
   "metadata": {
    "collapsed": false
   }
  },
  {
   "cell_type": "code",
   "execution_count": 100,
   "outputs": [],
   "source": [],
   "metadata": {
    "collapsed": false,
    "ExecuteTime": {
     "end_time": "2023-10-05T17:00:08.767569Z",
     "start_time": "2023-10-05T17:00:08.588721Z"
    }
   }
  },
  {
   "cell_type": "markdown",
   "source": [
    "## 5.)  Write the Ridge regression equation"
   ],
   "metadata": {
    "collapsed": false
   }
  },
  {
   "cell_type": "code",
   "execution_count": 100,
   "outputs": [],
   "source": [],
   "metadata": {
    "collapsed": false,
    "ExecuteTime": {
     "end_time": "2023-10-05T17:00:08.767935Z",
     "start_time": "2023-10-05T17:00:08.594124Z"
    }
   }
  },
  {
   "cell_type": "markdown",
   "source": [
    "## 6.)  Explore the various accuracy measures such as MAPE, RMSE, R^2. What do those values\n",
    "mean in terms of your problem? Explain."
   ],
   "metadata": {
    "collapsed": false
   }
  },
  {
   "cell_type": "code",
   "execution_count": 100,
   "outputs": [],
   "source": [],
   "metadata": {
    "collapsed": false,
    "ExecuteTime": {
     "end_time": "2023-10-05T17:00:08.768158Z",
     "start_time": "2023-10-05T17:00:08.598486Z"
    }
   }
  },
  {
   "cell_type": "markdown",
   "source": [
    "## 7.)  Create some useful visualization that provides insights into the results."
   ],
   "metadata": {
    "collapsed": false
   }
  },
  {
   "cell_type": "code",
   "execution_count": 100,
   "outputs": [],
   "source": [],
   "metadata": {
    "collapsed": false,
    "ExecuteTime": {
     "end_time": "2023-10-05T17:00:08.768398Z",
     "start_time": "2023-10-05T17:00:08.602036Z"
    }
   }
  },
  {
   "cell_type": "markdown",
   "source": [
    "## 8.)  Discuss with your group and provide a summary of the result."
   ],
   "metadata": {
    "collapsed": false
   }
  },
  {
   "cell_type": "code",
   "execution_count": 100,
   "outputs": [],
   "source": [],
   "metadata": {
    "collapsed": false,
    "ExecuteTime": {
     "end_time": "2023-10-05T17:00:08.768622Z",
     "start_time": "2023-10-05T17:00:08.606078Z"
    }
   }
  },
  {
   "cell_type": "markdown",
   "source": [
    "## Step 4\n",
    "* Plan for the 1-2 minutes informal presentation of your findings to the class.\n",
    "Note: At the end of the session, each group will update to the class"
   ],
   "metadata": {
    "collapsed": false
   }
  },
  {
   "cell_type": "code",
   "execution_count": 100,
   "outputs": [],
   "source": [],
   "metadata": {
    "collapsed": false,
    "ExecuteTime": {
     "end_time": "2023-10-05T17:00:08.779133Z",
     "start_time": "2023-10-05T17:00:08.611317Z"
    }
   }
  }
 ],
 "metadata": {
  "kernelspec": {
   "display_name": "Python 3 (ipykernel)",
   "language": "python",
   "name": "python3"
  },
  "language_info": {
   "codemirror_mode": {
    "name": "ipython",
    "version": 3
   },
   "file_extension": ".py",
   "mimetype": "text/x-python",
   "name": "python",
   "nbconvert_exporter": "python",
   "pygments_lexer": "ipython3",
   "version": "3.11.4"
  }
 },
 "nbformat": 4,
 "nbformat_minor": 2
}
