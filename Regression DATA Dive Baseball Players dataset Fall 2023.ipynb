{
 "cells": [
  {
   "attachments": {},
   "cell_type": "markdown",
   "metadata": {},
   "source": [
    "# Goal: Work with group on the Regression Modeling of the Baseball Players dataset \n",
    "\n",
    "* Will divide the class into the groups, the best way is to randomly divide the group\n",
    "* Each group will work on the problem together\n",
    "* I will join the groups and answer the questions from time to time\n",
    "* Once you guys complete the work, each of the group will present the findings to the class"
   ]
  },
  {
   "attachments": {},
   "cell_type": "markdown",
   "metadata": {},
   "source": [
    "## Day 1 Task"
   ]
  },
  {
   "attachments": {},
   "cell_type": "markdown",
   "metadata": {},
   "source": [
    "* 1.)  Explore the data, and visualize the data from multiple avenues\n",
    "* 2.)  Change the categorical variables to the numerical variables using appropriate method \n",
    "* 3.)  You may want to do some feature engineering to create the meaningful predictors\n",
    "* 4.)  Create the 80/20 train test split and then standardize the data\n",
    "* 5.)  Run the Simple linear regression for each predictor with the Salary being the target variable\n",
    "* 6.)  Explain the relationship of each individual predictor with the target variable\n",
    "* 7.)  Write the simple linear regression equation\n",
    "* 8.)  Discuss which variable is the most significant predictor of the players' salary\n",
    "* 9.)  Explore the various accuracy measures such as MAPE, RMSE, R^2. What do those values mean in terms of your problem? Explain.\n",
    "* 10.) Perform multiple linear regression taking three predictors that you observe most relevant for predicting salary.\n",
    "* 11.) Discuss your observations.\n",
    "* 12.) Provide a summary of the result.\n",
    "\n"
   ]
  },
  {
   "attachments": {},
   "cell_type": "markdown",
   "metadata": {},
   "source": [
    "* Plan for the 1-2 minutes informal presentation of your findings to the class.\n",
    "\n",
    "Note: At the end of the session, each group will present the findings to the class and email single main copy of their notebook representing groups overall  achievement"
   ]
  },
  {
   "cell_type": "markdown",
   "metadata": {
    "collapsed": false
   },
   "source": [
    "## Baseball Players dataset description\n",
    "\n"
   ]
  },
  {
   "cell_type": "markdown",
   "metadata": {
    "collapsed": false
   },
   "source": [
    "\n",
    "\n",
    "#### Major League Baseball Data from the 1986 and 1987 seasons.\n",
    "** A data frame with 322 observations of major league players on the following 20 variables **\n",
    "\n",
    "* AtBat: Number of times at bat in 1986\n",
    "* Hits: Number of hits in 1986\n",
    "* HmRun: Number of home runs in 1986\n",
    "* Runs: Number of runs in 1986\n",
    "* RBI: Number of runs batted in in 1986\n",
    "* Walks: Number of walks in 1986\n",
    "* Years: Number of years in the major leagues\n",
    "* CAtBat: Number of times at bat during his career\n",
    "* CHits: Number of hits during his career\n",
    "* CHmRun: Number of home runs during his career\n",
    "* CRuns: Number of runs during his career\n",
    "* CRBI: Number of runs batted in during his career\n",
    "* Walks: Number of walks during his career\n",
    "* League: A factor with levels A and N indicating player's league at the end of 1986\n",
    "* Division: A factor with levels E and W indicating player's division at the end of 1986\n",
    "* PutOuts: Number of put outs in 1986\n",
    "* Assists: Number of assists in 1986\n",
    "* Errors: Number of errors in 1986\n",
    "* Salary: 1987 annual salary on opening day in thousands of dollars\n",
    "* NewLeague: A factor with levels A and N indicating player's league at the beginning of 1987\n",
    "\t\n",
    "\t\t\n",
    "\t\t\n",
    "\n",
    "\n",
    "\n",
    "\n",
    "\n",
    "\n",
    "\t\t\n",
    "\t\t\n",
    "\t\t\n",
    "\n",
    "\t\t\n",
    "\n",
    "\t\t"
   ]
  },
  {
   "cell_type": "markdown",
   "metadata": {
    "collapsed": false
   },
   "source": [
    "## Imports"
   ]
  },
  {
   "cell_type": "code",
   "execution_count": null,
   "metadata": {
    "ExecuteTime": {
     "end_time": "2023-10-05T15:55:51.265215Z",
     "start_time": "2023-10-05T15:55:51.107961Z"
    },
    "collapsed": false
   },
   "outputs": [],
   "source": [
    "import numpy as np\n",
    "import pandas as pd\n",
    "import seaborn as sns\n",
    "import matplotlib.pyplot as plt\n",
    "plt.style.use('fivethirtyeight')\n",
    "%matplotlib inline\n",
    "\n",
    "import sklearn\n",
    "from sklearn import datasets, linear_model\n",
    "from sklearn.model_selection import train_test_split\n",
    "from sklearn.metrics import mean_squared_error,r2_score,mean_absolute_error\n",
    "from sklearn.metrics import mean_absolute_percentage_error\n",
    "from sklearn.preprocessing import StandardScaler\n",
    "\n",
    "from numpy import arange\n",
    "from sklearn.linear_model import LassoCV\n",
    "from sklearn.model_selection import RepeatedKFold\n",
    "from sklearn.model_selection import cross_val_score\n",
    "\n",
    "from sklearn.linear_model import RidgeCV\n",
    "\n",
    "from sklearn.model_selection import GridSearchCV\n",
    "from sklearn.linear_model import Lasso\n",
    "\n",
    "pd.set_option('display.max_columns',200) #allows for up to 500 columns to be displayed when viewing a dataframe\n",
    "pd.set_option('display.max_rows',100)\n",
    "plt.style.use('ggplot') # a style that can be used for plots - see style reference above\n",
    "\n",
    "import warnings\n",
    "warnings.filterwarnings(\"ignore\", category=DeprecationWarning)"
   ]
  },
  {
   "cell_type": "markdown",
   "metadata": {
    "collapsed": false
   },
   "source": [
    "## 1.)  Explore the data and visualize the data from multiple avenues"
   ]
  },
  {
   "cell_type": "markdown",
   "metadata": {
    "collapsed": false
   },
   "source": [
    "# Read the data "
   ]
  },
  {
   "cell_type": "code",
   "execution_count": null,
   "metadata": {
    "ExecuteTime": {
     "end_time": "2023-10-05T15:55:51.368189Z",
     "start_time": "2023-10-05T15:55:51.116813Z"
    },
    "collapsed": false
   },
   "outputs": [
    {
     "name": "stdout",
     "output_type": "stream",
     "text": [
      "<class 'pandas.core.frame.DataFrame'>\n",
      "RangeIndex: 322 entries, 0 to 321\n",
      "Data columns (total 20 columns):\n",
      " #   Column     Non-Null Count  Dtype  \n",
      "---  ------     --------------  -----  \n",
      " 0   AtBat      322 non-null    int64  \n",
      " 1   Hits       322 non-null    int64  \n",
      " 2   HmRun      322 non-null    int64  \n",
      " 3   Runs       322 non-null    int64  \n",
      " 4   RBI        322 non-null    int64  \n",
      " 5   Walks      322 non-null    int64  \n",
      " 6   Years      322 non-null    int64  \n",
      " 7   CAtBat     322 non-null    int64  \n",
      " 8   CHits      322 non-null    int64  \n",
      " 9   CHmRun     322 non-null    int64  \n",
      " 10  CRuns      322 non-null    int64  \n",
      " 11  CRBI       322 non-null    int64  \n",
      " 12  CWalks     322 non-null    int64  \n",
      " 13  League     322 non-null    object \n",
      " 14  Division   322 non-null    object \n",
      " 15  PutOuts    322 non-null    int64  \n",
      " 16  Assists    322 non-null    int64  \n",
      " 17  Errors     322 non-null    int64  \n",
      " 18  Salary     322 non-null    float64\n",
      " 19  NewLeague  322 non-null    object \n",
      "dtypes: float64(1), int64(16), object(3)\n",
      "memory usage: 50.4+ KB\n"
     ]
    }
   ],
   "source": [
    "df_Hi = pd.read_csv('Dataset/BaseballPlayersData.csv')\n",
    "df_Hi.info()"
   ]
  },
  {
   "cell_type": "code",
   "execution_count": null,
   "metadata": {
    "ExecuteTime": {
     "end_time": "2023-10-05T15:55:51.386060Z",
     "start_time": "2023-10-05T15:55:51.131152Z"
    },
    "collapsed": false
   },
   "outputs": [],
   "source": [
    "df_Hi.describe()"
   ]
  },
  {
   "cell_type": "code",
   "execution_count": null,
   "metadata": {
    "ExecuteTime": {
     "end_time": "2023-10-05T15:55:51.387005Z",
     "start_time": "2023-10-05T15:55:51.173616Z"
    },
    "collapsed": false
   },
   "outputs": [],
   "source": [
    "df_Hi.head()"
   ]
  },
  {
   "attachments": {},
   "cell_type": "markdown",
   "metadata": {},
   "source": [
    "# Missing Values"
   ]
  },
  {
   "cell_type": "code",
   "execution_count": null,
   "metadata": {
    "ExecuteTime": {
     "end_time": "2023-10-05T15:55:51.389086Z",
     "start_time": "2023-10-05T15:55:51.179802Z"
    }
   },
   "outputs": [],
   "source": [
    "# Count the number of missing values in each column\n",
    "print(df_Hi.isnull().sum())"
   ]
  },
  {
   "cell_type": "markdown",
   "metadata": {
    "collapsed": false
   },
   "source": [
    "## Visualizations"
   ]
  },
  {
   "cell_type": "markdown",
   "metadata": {
    "collapsed": false
   },
   "source": [
    "#### Histogram for numerical variables"
   ]
  },
  {
   "cell_type": "code",
   "execution_count": null,
   "metadata": {
    "ExecuteTime": {
     "end_time": "2023-10-05T15:55:54.240272Z",
     "start_time": "2023-10-05T15:55:51.187377Z"
    }
   },
   "outputs": [],
   "source": [
    "df_Hi.hist(figsize=(12, 8))\n",
    "plt.show()"
   ]
  },
  {
   "attachments": {},
   "cell_type": "markdown",
   "metadata": {},
   "source": [
    "#### Count Plots for Categorical Variables"
   ]
  },
  {
   "cell_type": "code",
   "execution_count": null,
   "metadata": {
    "ExecuteTime": {
     "end_time": "2023-10-05T15:55:54.570570Z",
     "start_time": "2023-10-05T15:55:54.241005Z"
    }
   },
   "outputs": [],
   "source": [
    "plt.figure(figsize=(10, 6))\n",
    "sns.countplot(x='League', data=df_Hi)\n",
    "plt.show()\n",
    "\n",
    "plt.figure(figsize=(10, 6))\n",
    "sns.countplot(x='Division', data=df_Hi)\n",
    "plt.show()\n",
    "\n",
    "plt.figure(figsize=(10, 6))\n",
    "sns.countplot(x='NewLeague', data=df_Hi)\n",
    "plt.show()"
   ]
  },
  {
   "cell_type": "markdown",
   "metadata": {},
   "source": [
    "### 2.)  Converting Categorical Variables to Numerical Variables"
   ]
  },
  {
   "cell_type": "code",
   "execution_count": null,
   "metadata": {
    "ExecuteTime": {
     "end_time": "2023-10-05T15:55:54.578609Z",
     "start_time": "2023-10-05T15:55:54.560402Z"
    }
   },
   "outputs": [],
   "source": [
    "#Create prefix for dummy variables\n",
    "var_dummy_prefix_NL = \"NewLeague\"\n",
    "var_dummy_prefix_D = 'Division'\n",
    "var_dummy_prefix_L = 'League'\n",
    "\n",
    "#Find the highest count category\n",
    "# -----------New League -------------#\n",
    "df_dummy_NL = pd.DataFrame(df_Hi['NewLeague'].value_counts().reset_index())\n",
    "var_dummy_NL = df_dummy_NL.iloc[0, 0]\n",
    "\n",
    "# -----------Division----------------#\n",
    "df_dummy_D = pd.DataFrame(df_Hi['Division'].value_counts().reset_index())\n",
    "var_dummy_D = df_dummy_D.iloc[0, 0]\n",
    "\n",
    "# -----------League----------------#\n",
    "df_dummy_L = pd.DataFrame(df_Hi['League'].value_counts().reset_index())\n",
    "var_dummy_L = df_dummy_L.iloc[0, 0]\n",
    "\n",
    "#Create variable to drop the highest count column\n",
    "var_dumpre_NL = var_dummy_prefix_NL + \"_\" +  var_dummy_NL\n",
    "var_dumpre_D = var_dummy_prefix_D + \"_\" +  var_dummy_D\n",
    "var_dumpre_L = var_dummy_prefix_L + \"_\" +  var_dummy_L\n",
    "\n",
    "#Create dummy variables\n",
    "New_League_Dummies = pd.get_dummies(df_Hi['NewLeague'], drop_first = False, prefix=var_dummy_prefix_NL)\n",
    "Division_Dummies = pd.get_dummies(df_Hi['Division'], drop_first = False, prefix=var_dummy_prefix_D)\n",
    "League_Dummies = pd.get_dummies(df_Hi['League'], drop_first = False, prefix=var_dummy_prefix_L)\n",
    "\n",
    "#Drop the highest count dummy variable\n",
    "New_League_Dummies = New_League_Dummies.drop(var_dumpre_NL, axis = 1)\n",
    "Division_Dummies = Division_Dummies.drop(var_dumpre_D, axis = 1)\n",
    "League_Dummies = League_Dummies.drop(var_dumpre_L, axis = 1)"
   ]
  },
  {
   "cell_type": "code",
   "execution_count": null,
   "metadata": {
    "ExecuteTime": {
     "end_time": "2023-10-05T15:55:54.592187Z",
     "start_time": "2023-10-05T15:55:54.574757Z"
    },
    "collapsed": false
   },
   "outputs": [],
   "source": [
    "\n",
    "df_Hi = pd.concat([df_Hi, League_Dummies,Division_Dummies,New_League_Dummies], axis=1)\n",
    "df_Hi = df_Hi.drop(['League','Division','NewLeague'], axis=1)\n",
    "df_Hi.info()"
   ]
  },
  {
   "attachments": {},
   "cell_type": "markdown",
   "metadata": {},
   "source": [
    "#### 3.)  Create the Meaningful Predictors"
   ]
  },
  {
   "cell_type": "code",
   "execution_count": null,
   "metadata": {
    "ExecuteTime": {
     "end_time": "2023-10-05T15:55:54.687038Z",
     "start_time": "2023-10-05T15:55:54.602322Z"
    }
   },
   "outputs": [],
   "source": [
    "med_sal = df_Hi['Salary'].median()\n",
    "\n",
    "df_Hi['Abov_Med_Salary'] = df_Hi['Salary'].apply(lambda x: 1 if x > med_sal else 0)\n",
    "\n",
    "df_Hi.head()\n"
   ]
  },
  {
   "cell_type": "markdown",
   "metadata": {},
   "source": [
    "### 4.)  Create the 80/20 train test split and then standardize the data"
   ]
  },
  {
   "cell_type": "code",
   "execution_count": null,
   "metadata": {
    "ExecuteTime": {
     "end_time": "2023-10-05T15:55:54.687496Z",
     "start_time": "2023-10-05T15:55:54.609866Z"
    },
    "collapsed": false
   },
   "outputs": [],
   "source": [
    "# keep features only for X\n",
    "X = df_Hi.drop('Salary', axis = 1)\n",
    "\n",
    "# keep target variable only for y\n",
    "Y = df_Hi['Salary'] \n",
    "\n",
    "# split the train test, here we are doing 80/20 split\n",
    "X_train, X_test, Y_train, Y_test = train_test_split(X, Y, test_size = 0.2, random_state = 42)"
   ]
  },
  {
   "cell_type": "markdown",
   "metadata": {},
   "source": [
    "### Standardizing the Data"
   ]
  },
  {
   "cell_type": "code",
   "execution_count": null,
   "metadata": {
    "ExecuteTime": {
     "end_time": "2023-10-05T15:55:54.687753Z",
     "start_time": "2023-10-05T15:55:54.614056Z"
    }
   },
   "outputs": [],
   "source": [
    "sc = StandardScaler()\n",
    "# fit the data i.e calculate the mean and sd of each coluns of X_train\n",
    "sc.fit(X_train)\n",
    "\n",
    "#transform the train data\n",
    "X_train_sc = sc.transform(X_train)\n",
    "X_train_sc = pd.DataFrame(X_train_sc, columns=X_train.columns)\n",
    "\n",
    "#transform the test data\n",
    "X_test_sc = sc.transform(X_test)\n",
    "X_test_sc = pd.DataFrame(X_test_sc, columns=X_test.columns)"
   ]
  },
  {
   "cell_type": "markdown",
   "metadata": {},
   "source": [
    "### 5.)  Run the Simple linear regression for each predictor with the Salary being the target variable"
   ]
  },
  {
   "cell_type": "code",
   "execution_count": null,
   "metadata": {
    "ExecuteTime": {
     "end_time": "2023-10-05T15:55:54.777541Z",
     "start_time": "2023-10-05T15:55:54.732601Z"
    }
   },
   "outputs": [],
   "source": [
    "from sklearn.linear_model import LinearRegression\n",
    "\n",
    "lr = LinearRegression()\n",
    "\n",
    "predictors = X_train_sc.columns\n",
    "\n",
    "r_squared_values = []\n",
    "coefficients = []\n",
    "\n",
    "for predictor in predictors:\n",
    "    X_train_predictor = X_train_sc[[predictor]]\n",
    "    X_test_predictor = X_test_sc[[predictor]]\n",
    "    \n",
    "    lr.fit(X_train_predictor, Y_train)\n",
    "    \n",
    "    predictions = lr.predict(X_test_predictor)\n",
    "    \n",
    "    # Calculate and print the R-squared score\n",
    "    r_squared = lr.score(X_test_predictor, Y_test)\n",
    "    r_squared_values.append(r_squared)\n",
    "    coefficients.append(lr.coef_)\n",
    "    \n",
    "for i in range(len(r_squared_values)):\n",
    "    print(f\"R-squared score for {predictors[i]}: {r_squared_values[i]}\")\n",
    "    print(f\"Coefficient for {predictors[i]}: {coefficients[i]}\")"
   ]
  },
  {
   "cell_type": "markdown",
   "metadata": {},
   "source": [
    "#### 6. Explain the relationship of each individual predictor with the target variable\n",
    "\n",
    "The R-squared score for each predictor indicates the estimated effect of the predictor on the target variable."
   ]
  },
  {
   "cell_type": "markdown",
   "metadata": {
    "collapsed": false
   },
   "source": [
    "### 7.  Write the Simple Linear Regression Equation"
   ]
  },
  {
   "cell_type": "code",
   "execution_count": null,
   "metadata": {
    "ExecuteTime": {
     "end_time": "2023-10-05T15:55:54.795941Z",
     "start_time": "2023-10-05T15:55:54.742390Z"
    },
    "collapsed": false
   },
   "outputs": [],
   "source": [
    "slope = lr.coef_[0]  # Coefficient of the predictor\n",
    "intercept = lr.intercept_ \n",
    "\n",
    "print(f\"Simple Linear Regression Equation: Salary = (Coefficient * Predictor) + Intercept\")\n",
    "\n",
    "# Equation for Career At Bat:\n",
    "print(f\"Career At-Bat Equation: Salary = ({coefficients[7]} * Career At-Bats) + {intercept}\")\n",
    "\n",
    "# Equation for Career Hits:\n",
    "print(f\"Career Hits Equation: Salary = ({coefficients[8]} * Career Hits) + {intercept}\")\n",
    "\n",
    "# Equation for Career Home Runs:\n",
    "print(f\"Career Home Run Equation: Salary = ({coefficients[9]} * Career Home Runs) + {intercept}\")\n",
    "\n",
    "# Equation for Career Runs:\n",
    "print(f\"Career Runs Equation: Salary = ({coefficients[10]} * Career Runs) + {intercept}\")\n",
    "\n",
    "# Equation for Career Runs Batted:\n",
    "print(f\"Career Runs Batted Equation: Salary = ({coefficients[11]} * Career Runs Batted) + {intercept}\")"
   ]
  },
  {
   "cell_type": "markdown",
   "metadata": {
    "collapsed": false
   },
   "source": [
    "#### 8.)  Discuss which variable is the most significant predictor of the players' salary\n",
    "\n",
    "The CAtBat, CHits, CHmRun, CRuns, and CRBI variables have the highest R-Squared value. This indicates that these variables have the highest estimated effect on the player's salary."
   ]
  },
  {
   "cell_type": "markdown",
   "metadata": {
    "collapsed": false
   },
   "source": [
    "#### 9.) Explore the various accuracy measures such as MAPE, RMSE, R^2. What do those values mean in terms of your problem? Explain."
   ]
  },
  {
   "cell_type": "code",
   "execution_count": null,
   "metadata": {
    "collapsed": false
   },
   "outputs": [],
   "source": [
    "# Calculate the estimated y values using the test dataset\n",
    "y_hat_test = predictions\n",
    "\n",
    "test_mse = mean_squared_error(Y_test, y_hat_test)\n",
    "test_rmse = np.sqrt(test_mse)\n",
    "test_mae = mean_absolute_error(Y_test, y_hat_test)\n",
    "test_r_squared = r2_score(Y_test, y_hat_test)\n",
    "test_mape = mean_absolute_percentage_error(Y_test, y_hat_test)\n",
    "\n",
    "print(f'The test RMSE is:\\t{round(test_rmse, 3)}')\n",
    "print(f'The test MAE is:\\t{round(test_mae, 3)}')\n",
    "print(f'The test Rsquared is:\\t{round(test_r_squared, 4)}')\n",
    "print(f'The test MAPE is:\\t{round(test_mape, 4)}')"
   ]
  },
  {
   "cell_type": "markdown",
   "metadata": {
    "collapsed": false
   },
   "source": [
    "#### 10.)  Perform multiple linear regression taking three predictors that you observe most relevant for predicting salary."
   ]
  },
  {
   "cell_type": "code",
   "execution_count": null,
   "metadata": {
    "ExecuteTime": {
     "end_time": "2023-10-05T15:55:55.583415Z",
     "start_time": "2023-10-05T15:55:54.747643Z"
    },
    "collapsed": false
   },
   "outputs": [],
   "source": [
    "#import the libraries\n",
    "import statsmodels\n",
    "import statsmodels.api as sm\n",
    "import statsmodels.formula.api as smf"
   ]
  },
  {
   "cell_type": "code",
   "execution_count": null,
   "metadata": {
    "ExecuteTime": {
     "end_time": "2023-10-05T16:37:27.204265Z",
     "start_time": "2023-10-05T16:37:27.163777Z"
    },
    "collapsed": false
   },
   "outputs": [
    {
     "data": {
      "text/html": [
       "<table class=\"simpletable\">\n",
       "<caption>OLS Regression Results</caption>\n",
       "<tr>\n",
       "  <th>Dep. Variable:</th>            <td>y</td>        <th>  R-squared:         </th> <td>   0.341</td>\n",
       "</tr>\n",
       "<tr>\n",
       "  <th>Model:</th>                   <td>OLS</td>       <th>  Adj. R-squared:    </th> <td>   0.327</td>\n",
       "</tr>\n",
       "<tr>\n",
       "  <th>Method:</th>             <td>Least Squares</td>  <th>  F-statistic:       </th> <td>   25.92</td>\n",
       "</tr>\n",
       "<tr>\n",
       "  <th>Date:</th>             <td>Thu, 05 Oct 2023</td> <th>  Prob (F-statistic):</th> <td>4.44e-21</td>\n",
       "</tr>\n",
       "<tr>\n",
       "  <th>Time:</th>                 <td>11:37:27</td>     <th>  Log-Likelihood:    </th> <td> -1854.6</td>\n",
       "</tr>\n",
       "<tr>\n",
       "  <th>No. Observations:</th>      <td>   257</td>      <th>  AIC:               </th> <td>   3721.</td>\n",
       "</tr>\n",
       "<tr>\n",
       "  <th>Df Residuals:</th>          <td>   251</td>      <th>  BIC:               </th> <td>   3743.</td>\n",
       "</tr>\n",
       "<tr>\n",
       "  <th>Df Model:</th>              <td>     5</td>      <th>                     </th>     <td> </td>   \n",
       "</tr>\n",
       "<tr>\n",
       "  <th>Covariance Type:</th>      <td>nonrobust</td>    <th>                     </th>     <td> </td>   \n",
       "</tr>\n",
       "</table>\n",
       "<table class=\"simpletable\">\n",
       "<tr>\n",
       "     <td></td>       <th>coef</th>     <th>std err</th>      <th>t</th>      <th>P>|t|</th>  <th>[0.025</th>    <th>0.975]</th>  \n",
       "</tr>\n",
       "<tr>\n",
       "  <th>const</th>  <td>  526.2150</td> <td>   20.796</td> <td>   25.303</td> <td> 0.000</td> <td>  485.257</td> <td>  567.173</td>\n",
       "</tr>\n",
       "<tr>\n",
       "  <th>CAtBat</th> <td> -940.0812</td> <td>  234.087</td> <td>   -4.016</td> <td> 0.000</td> <td>-1401.106</td> <td> -479.056</td>\n",
       "</tr>\n",
       "<tr>\n",
       "  <th>CHits</th>  <td>  314.5538</td> <td>  321.312</td> <td>    0.979</td> <td> 0.329</td> <td> -318.257</td> <td>  947.365</td>\n",
       "</tr>\n",
       "<tr>\n",
       "  <th>CHmRun</th> <td> -136.8184</td> <td>  122.685</td> <td>   -1.115</td> <td> 0.266</td> <td> -378.442</td> <td>  104.806</td>\n",
       "</tr>\n",
       "<tr>\n",
       "  <th>CRuns</th>  <td>  605.2752</td> <td>  166.495</td> <td>    3.635</td> <td> 0.000</td> <td>  277.371</td> <td>  933.180</td>\n",
       "</tr>\n",
       "<tr>\n",
       "  <th>CRBI</th>   <td>  356.8496</td> <td>  212.832</td> <td>    1.677</td> <td> 0.095</td> <td>  -62.314</td> <td>  776.014</td>\n",
       "</tr>\n",
       "</table>\n",
       "<table class=\"simpletable\">\n",
       "<tr>\n",
       "  <th>Omnibus:</th>       <td>60.000</td> <th>  Durbin-Watson:     </th> <td>   1.899</td>\n",
       "</tr>\n",
       "<tr>\n",
       "  <th>Prob(Omnibus):</th> <td> 0.000</td> <th>  Jarque-Bera (JB):  </th> <td> 134.513</td>\n",
       "</tr>\n",
       "<tr>\n",
       "  <th>Skew:</th>          <td> 1.116</td> <th>  Prob(JB):          </th> <td>6.18e-30</td>\n",
       "</tr>\n",
       "<tr>\n",
       "  <th>Kurtosis:</th>      <td> 5.753</td> <th>  Cond. No.          </th> <td>    42.1</td>\n",
       "</tr>\n",
       "</table><br/><br/>Notes:<br/>[1] Standard Errors assume that the covariance matrix of the errors is correctly specified."
      ],
      "text/latex": [
       "\\begin{center}\n",
       "\\begin{tabular}{lclc}\n",
       "\\toprule\n",
       "\\textbf{Dep. Variable:}    &        y         & \\textbf{  R-squared:         } &     0.341   \\\\\n",
       "\\textbf{Model:}            &       OLS        & \\textbf{  Adj. R-squared:    } &     0.327   \\\\\n",
       "\\textbf{Method:}           &  Least Squares   & \\textbf{  F-statistic:       } &     25.92   \\\\\n",
       "\\textbf{Date:}             & Thu, 05 Oct 2023 & \\textbf{  Prob (F-statistic):} &  4.44e-21   \\\\\n",
       "\\textbf{Time:}             &     11:37:27     & \\textbf{  Log-Likelihood:    } &   -1854.6   \\\\\n",
       "\\textbf{No. Observations:} &         257      & \\textbf{  AIC:               } &     3721.   \\\\\n",
       "\\textbf{Df Residuals:}     &         251      & \\textbf{  BIC:               } &     3743.   \\\\\n",
       "\\textbf{Df Model:}         &           5      & \\textbf{                     } &             \\\\\n",
       "\\textbf{Covariance Type:}  &    nonrobust     & \\textbf{                     } &             \\\\\n",
       "\\bottomrule\n",
       "\\end{tabular}\n",
       "\\begin{tabular}{lcccccc}\n",
       "                & \\textbf{coef} & \\textbf{std err} & \\textbf{t} & \\textbf{P$> |$t$|$} & \\textbf{[0.025} & \\textbf{0.975]}  \\\\\n",
       "\\midrule\n",
       "\\textbf{const}  &     526.2150  &       20.796     &    25.303  &         0.000        &      485.257    &      567.173     \\\\\n",
       "\\textbf{CAtBat} &    -940.0812  &      234.087     &    -4.016  &         0.000        &    -1401.106    &     -479.056     \\\\\n",
       "\\textbf{CHits}  &     314.5538  &      321.312     &     0.979  &         0.329        &     -318.257    &      947.365     \\\\\n",
       "\\textbf{CHmRun} &    -136.8184  &      122.685     &    -1.115  &         0.266        &     -378.442    &      104.806     \\\\\n",
       "\\textbf{CRuns}  &     605.2752  &      166.495     &     3.635  &         0.000        &      277.371    &      933.180     \\\\\n",
       "\\textbf{CRBI}   &     356.8496  &      212.832     &     1.677  &         0.095        &      -62.314    &      776.014     \\\\\n",
       "\\bottomrule\n",
       "\\end{tabular}\n",
       "\\begin{tabular}{lclc}\n",
       "\\textbf{Omnibus:}       & 60.000 & \\textbf{  Durbin-Watson:     } &    1.899  \\\\\n",
       "\\textbf{Prob(Omnibus):} &  0.000 & \\textbf{  Jarque-Bera (JB):  } &  134.513  \\\\\n",
       "\\textbf{Skew:}          &  1.116 & \\textbf{  Prob(JB):          } & 6.18e-30  \\\\\n",
       "\\textbf{Kurtosis:}      &  5.753 & \\textbf{  Cond. No.          } &     42.1  \\\\\n",
       "\\bottomrule\n",
       "\\end{tabular}\n",
       "%\\caption{OLS Regression Results}\n",
       "\\end{center}\n",
       "\n",
       "Notes: \\newline\n",
       " [1] Standard Errors assume that the covariance matrix of the errors is correctly specified."
      ],
      "text/plain": [
       "<class 'statsmodels.iolib.summary.Summary'>\n",
       "\"\"\"\n",
       "                            OLS Regression Results                            \n",
       "==============================================================================\n",
       "Dep. Variable:                      y   R-squared:                       0.341\n",
       "Model:                            OLS   Adj. R-squared:                  0.327\n",
       "Method:                 Least Squares   F-statistic:                     25.92\n",
       "Date:                Thu, 05 Oct 2023   Prob (F-statistic):           4.44e-21\n",
       "Time:                        11:37:27   Log-Likelihood:                -1854.6\n",
       "No. Observations:                 257   AIC:                             3721.\n",
       "Df Residuals:                     251   BIC:                             3743.\n",
       "Df Model:                           5                                         \n",
       "Covariance Type:            nonrobust                                         \n",
       "==============================================================================\n",
       "                 coef    std err          t      P>|t|      [0.025      0.975]\n",
       "------------------------------------------------------------------------------\n",
       "const        526.2150     20.796     25.303      0.000     485.257     567.173\n",
       "CAtBat      -940.0812    234.087     -4.016      0.000   -1401.106    -479.056\n",
       "CHits        314.5538    321.312      0.979      0.329    -318.257     947.365\n",
       "CHmRun      -136.8184    122.685     -1.115      0.266    -378.442     104.806\n",
       "CRuns        605.2752    166.495      3.635      0.000     277.371     933.180\n",
       "CRBI         356.8496    212.832      1.677      0.095     -62.314     776.014\n",
       "==============================================================================\n",
       "Omnibus:                       60.000   Durbin-Watson:                   1.899\n",
       "Prob(Omnibus):                  0.000   Jarque-Bera (JB):              134.513\n",
       "Skew:                           1.116   Prob(JB):                     6.18e-30\n",
       "Kurtosis:                       5.753   Cond. No.                         42.1\n",
       "==============================================================================\n",
       "\n",
       "Notes:\n",
       "[1] Standard Errors assume that the covariance matrix of the errors is correctly specified.\n",
       "\"\"\""
      ]
     },
     "execution_count": 63,
     "metadata": {},
     "output_type": "execute_result"
    }
   ],
   "source": [
    "r2_sig_preds = ['CAtBat', 'CHits', 'CHmRun', 'CRuns', 'CRBI']\n",
    "X_reg = X_train_sc[r2_sig_preds]\n",
    "X_reg = sm.add_constant(X_reg) # adding a constant\n",
    "reg1 = sm.OLS(np.asarray(Y_train), X_reg).fit() \n",
    "pred = reg1.predict(X_reg) \n",
    "\n",
    "reg1.summary()"
   ]
  },
  {
   "cell_type": "code",
   "execution_count": null,
   "metadata": {
    "ExecuteTime": {
     "end_time": "2023-10-05T16:37:30.112958Z",
     "start_time": "2023-10-05T16:37:30.079384Z"
    }
   },
   "source": [
    "# Drop CHits since it has a P value > 0.05.\n",
    "\n",
    "X_reg = X_reg.drop('CHits', axis = 1)\n",
    "X_reg = sm.add_constant(X_reg) # adding a constant\n",
    " \n",
    "reg2 = sm.OLS(np.asarray(Y_train), X_reg).fit()\n",
    "pred2 = reg2.predict(X_reg) \n",
    " \n",
    "reg2.summary()"
   ]
  },
  {
   "cell_type": "markdown",
   "metadata": {
    "collapsed": false
   },
   "source": [
    "## 11.) Discuss your observations.\n"
   ]
  },
  {
   "cell_type": "markdown",
   "metadata": {
    "collapsed": false
   },
   "source": [
    "We found that so-and-so predictor was the best indicator of salary for so-and-so reasons."
   ]
  },
  {
   "cell_type": "markdown",
   "metadata": {
    "collapsed": false
   },
   "source": [
    "## 12.) Provide a summary of the result."
   ]
  },
  {
   "cell_type": "markdown",
   "metadata": {
    "collapsed": false
   },
   "source": [
    "Summary goes here"
   ]
  },
  {
   "cell_type": "markdown",
   "metadata": {
    "collapsed": false
   },
   "source": [
    "### DATA DIVE Regression: DAY 2 Task\n",
    "* At this point, you have already explored the data, created some visualizations, conduct the\n",
    "feature engineering, and fitted the OLS regression models.\n",
    "\n",
    "\n",
    "\n"
   ]
  },
  {
   "cell_type": "markdown",
   "metadata": {
    "collapsed": false
   },
   "source": [
    "##  Step 1"
   ]
  },
  {
   "cell_type": "markdown",
   "metadata": {
    "collapsed": false
   },
   "source": [
    "## 1.)  Run the Multiple linear regression using all predictors with the Salary being the target variable"
   ]
  },
  {
   "cell_type": "code",
   "execution_count": null,
   "metadata": {},
   "outputs": [],
   "source": [
    "X_reg = X_train_sc\n",
    "X_reg = sm.add_constant(X_reg) # adding a constant\n",
    "reg1 = sm.OLS(np.asarray(Y_train), X_reg).fit() \n",
    "pred = reg1.predict(X_reg) \n",
    "\n",
    "reg1.summary()"
   ]
  },
  {
   "cell_type": "markdown",
   "metadata": {
    "collapsed": false
   },
   "source": [
    "## 2.)  Use Backward elimination on the model for feature selection and build the final model"
   ]
  },
  {
   "cell_type": "code",
   "execution_count": null,
   "metadata": {},
   "outputs": [],
   "source": [
    "count = len([i for i in reg1.params if i >= .05]) \n",
    "\n",
    "for i in range(0,count):\n",
    "    index_max = max(range(len(reg1.pvalues)), key=reg1.pvalues.__getitem__)\n",
    "    X_reg = X_reg.drop(X_reg.columns[index_max], axis = 1)\n",
    "    X_reg = sm.add_constant(X_reg) # adding a constant\n",
    "    reg1 = sm.OLS(np.asarray(Y_train), X_reg).fit() \n",
    "    pred = reg1.predict(X_reg) \n",
    "    count = len([i for i in reg1.params if i > .05]) \n",
    "    i+= 1\n",
    "\n",
    "reg1.summary()\n"
   ]
  },
  {
   "cell_type": "markdown",
   "metadata": {
    "collapsed": false
   },
   "source": [
    "## 3.)  Explain the relationship of each individual predictor with the target variable"
   ]
  },
  {
   "cell_type": "markdown",
   "metadata": {},
   "source": [
    "## 4.)  Write the multiple linear regression equation"
   ]
  },
  {
   "cell_type": "markdown",
   "metadata": {
    "collapsed": false
   },
   "source": [
    "## 5.)  Explore the various accuracy measures such as MAPE, RMSE, R^2. What do those values mean in terms of your problem? Explain."
   ]
  },
  {
   "cell_type": "markdown",
   "metadata": {
    "collapsed": false
   },
   "source": [
    "## 6.)  Discuss with your group and provide a summary of the result."
   ]
  },
  {
   "cell_type": "markdown",
   "metadata": {
    "collapsed": false
   },
   "source": [
    "## 7.)  Plan for the 3 minutes presentation of your findings to the class."
   ]
  },
  {
   "cell_type": "markdown",
   "metadata": {},
   "source": [
    "## Step 2"
   ]
  },
  {
   "cell_type": "markdown",
   "metadata": {
    "collapsed": false
   },
   "source": [
    "## 1.)  Run the Lasso regression using all predictors with the Salary being the target variable"
   ]
  },
  {
   "cell_type": "code",
   "execution_count": 19,
   "metadata": {},
   "outputs": [
    {
     "name": "stderr",
     "output_type": "stream",
     "text": [
      "/home/codespace/.local/lib/python3.10/site-packages/sklearn/linear_model/_coordinate_descent.py:628: ConvergenceWarning: Objective did not converge. You might want to increase the number of iterations, check the scale of the features or consider increasing regularisation. Duality gap: 6.297e+04, tolerance: 4.231e+03\n",
      "  model = cd_fast.enet_coordinate_descent(\n"
     ]
    },
    {
     "data": {
      "image/png": "[encoded data removed]",
      "text/plain": [
       "<Figure size 640x480 with 1 Axes>"
      ]
     },
     "metadata": {},
     "output_type": "display_data"
    }
   ],
   "source": [
    "from sklearn.linear_model import Lasso\n",
    "from sklearn.metrics import mean_squared_error, mean_absolute_error, mean_absolute_percentage_error\n",
    "import numpy as np\n",
    "\n",
    "\n",
    "#Code Block 41\n",
    "\n",
    "alphas = [0.1, 0.5, 1, 3, 5, 10, 15, 25, 50] # here alpha is the lambda in the lecture note, the coefficient of lasso penalty\n",
    "scores = []\n",
    "\n",
    "\n",
    "\n",
    "for a in alphas:\n",
    "    lasso = Lasso(alpha = a) \n",
    "    # Fit the Lasso regression model\n",
    "    lasso.fit(X_train_sc, Y_train)\n",
    "    predictions = lasso.predict(X_test_sc)\n",
    "    scores.append(mean_absolute_error(Y_test, predictions))\n",
    "\n",
    "\n",
    "plt.plot(alphas, scores, '-o')\n",
    "plt.xlabel('alpha, a')\n",
    "plt.ylabel('Mean squared error')\n",
    "plt.xticks(alphas)\n",
    "plt.show()\n",
    "\n",
    "#Note: we should use the validation data to find the value of parameters rather than the test data\n"
   ]
  },
  {
   "cell_type": "markdown",
   "metadata": {
    "collapsed": false
   },
   "source": [
    "## 2.)  Use the grid search to find the best value of lambda in your lasso model and build the final model"
   ]
  },
  {
   "cell_type": "markdown",
   "metadata": {
    "collapsed": false
   },
   "source": [
    "## 3.)  Explore the relationship of each individual predictor with the target variable"
   ]
  },
  {
   "cell_type": "markdown",
   "metadata": {
    "collapsed": false
   },
   "source": [
    "## 4.)  List all the predictors that are considered insignificant by the lasso regression. Did you find anything interesting?"
   ]
  },
  {
   "cell_type": "markdown",
   "metadata": {
    "collapsed": false
   },
   "source": [
    "## 5.)  Write the lasso regression equation"
   ]
  },
  {
   "cell_type": "markdown",
   "metadata": {
    "collapsed": false
   },
   "source": [
    "## 6.)  Explore the various accuracy measures such as MAPE, RMSE, R^2. What do those values mean in terms of your problem? Explain."
   ]
  },
  {
   "cell_type": "markdown",
   "metadata": {
    "collapsed": false
   },
   "source": [
    "## 7.)  Create some useful visualization that provides insights into the results."
   ]
  },
  {
   "cell_type": "markdown",
   "metadata": {
    "collapsed": false
   },
   "source": [
    "## 8.)  Discuss with your group and provide a summary of the result."
   ]
  },
  {
   "cell_type": "markdown",
   "metadata": {
    "collapsed": false
   },
   "source": [
    "## Step 3"
   ]
  },
  {
   "cell_type": "markdown",
   "metadata": {
    "collapsed": false
   },
   "source": [
    "## 1.)  Run the Ridge regression using all predictors with the Salary being the target variable"
   ]
  },
  {
   "cell_type": "markdown",
   "metadata": {
    "collapsed": false
   },
   "source": [
    "## 2.)  Use the grid search to find the best value of lambda in your Ridge model and build the final model"
   ]
  },
  {
   "cell_type": "markdown",
   "metadata": {
    "collapsed": false
   },
   "source": [
    "## 3.)  Explore the relationship of each individual predictor with the target variable"
   ]
  },
  {
   "cell_type": "markdown",
   "metadata": {
    "collapsed": false
   },
   "source": [
    "## 4.)  Is there any predictors that are considered insignificant by the Ridge regression?"
   ]
  },
  {
   "cell_type": "markdown",
   "metadata": {
    "collapsed": false
   },
   "source": [
    "## 5.)  Write the Ridge regression equation"
   ]
  },
  {
   "cell_type": "markdown",
   "metadata": {
    "collapsed": false
   },
   "source": [
    "## 6.)  Explore the various accuracy measures such as MAPE, RMSE, R^2. What do those values mean in terms of your problem? Explain."
   ]
  },
  {
   "cell_type": "markdown",
   "metadata": {
    "collapsed": false
   },
   "source": [
    "## 7.)  Create some useful visualization that provides insights into the results."
   ]
  },
  {
   "cell_type": "markdown",
   "metadata": {
    "collapsed": false
   },
   "source": [
    "## 8.)  Discuss with your group and provide a summary of the result."
   ]
  },
  {
   "cell_type": "markdown",
   "metadata": {
    "collapsed": false
   },
   "source": [
    "## Step 4"
   ]
  },
  {
   "cell_type": "markdown",
   "metadata": {
   },
   "source": [
    "## Plan for the 1-2 minutes informal presentation of your findings to the class.\n",
    "Note: At the end of the session, each group will update to the class."
   ],
   "metadata": {
    "collapsed": false
   }
  },
  {
   "cell_type": "code",
   "execution_count": null,
   "outputs": [],
   "source": [],
   "metadata": {
    "collapsed": false
   },
   "outputs": [],
   "source": []
  }
 ],
 "metadata": {
  "kernelspec": {
   "display_name": "Python 3 (ipykernel)",
   "language": "python",
   "name": "python3"
  },
  "language_info": {
   "codemirror_mode": {
    "name": "ipython",
    "version": 3
   },
   "file_extension": ".py",
   "mimetype": "text/x-python",
   "name": "python",
   "nbconvert_exporter": "python",
   "pygments_lexer": "ipython3",
   "version": "3.11.4"
  }
 },
 "nbformat": 4,
 "nbformat_minor": 2
}
